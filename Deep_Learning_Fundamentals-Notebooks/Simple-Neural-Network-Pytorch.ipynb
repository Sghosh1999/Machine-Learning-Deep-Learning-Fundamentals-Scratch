{
 "cells": [
  {
   "cell_type": "markdown",
   "id": "ae1a407f",
   "metadata": {},
   "source": [
    "## Model Architecture"
   ]
  },
  {
   "cell_type": "code",
   "execution_count": 1,
   "id": "a03978f7",
   "metadata": {},
   "outputs": [],
   "source": [
    "import torch\n",
    "from torch import nn\n",
    "import torch.nn.functional as F\n",
    "\n",
    "class MyNeuralNet(nn.Module):\n",
    "    def __init__(self,input_dimension,output_dimension):\n",
    "        super(MyNeuralNet,self).__init__()\n",
    "        ## Input Dimension - Example Values (X1, x2) - [1,2[, [3,4]\n",
    "        #1st Hidden Layer\n",
    "        self.fc1 = nn.Linear(input_dimension, 100)\n",
    "        # Second hidden layer (connecting to a larger intermediate layer)  \n",
    "        self.fc2 = nn.Linear(100, 200)\n",
    "        # Third hidden layer  \n",
    "        self.fc3 = nn.Linear(200, 100) \n",
    "        ## Output Layer\n",
    "        self.fc4 = nn.Linear(100,output_dimension)\n",
    "        self.dropout = nn.Dropout(p=0.2)\n",
    "    \n",
    "    ## Forward Function\n",
    "    def forward(self,X):\n",
    "        x = self.fc1(X)\n",
    "        x = F.relu(x)\n",
    "        \n",
    "        x = self.fc2(x)\n",
    "        x = F.relu(x)\n",
    "\n",
    "        x = self.fc3(x)  \n",
    "        x = F.relu(x)\n",
    "        \n",
    "        x = self.fc4(x)\n",
    "        \n",
    "        return x"
   ]
  },
  {
   "cell_type": "markdown",
   "id": "a40b5076",
   "metadata": {},
   "source": [
    "## Training Code"
   ]
  },
  {
   "cell_type": "code",
   "execution_count": 2,
   "id": "e2745c05",
   "metadata": {},
   "outputs": [
    {
     "name": "stdout",
     "output_type": "stream",
     "text": [
      "Epoch 1/500, Loss: 12.19\n",
      "Epoch 11/500, Loss: 5.1\n",
      "Epoch 21/500, Loss: 1.81\n",
      "Epoch 31/500, Loss: 1.02\n",
      "Epoch 41/500, Loss: 0.77\n",
      "Epoch 51/500, Loss: 0.41\n",
      "Epoch 61/500, Loss: 0.37\n",
      "Epoch 71/500, Loss: 0.45\n",
      "Epoch 81/500, Loss: 0.65\n",
      "Epoch 91/500, Loss: 0.45\n",
      "Epoch 101/500, Loss: 1.72\n",
      "Epoch 111/500, Loss: 0.94\n",
      "Epoch 121/500, Loss: 1.51\n",
      "Epoch 131/500, Loss: 1.75\n",
      "Epoch 141/500, Loss: 2.32\n",
      "Epoch 151/500, Loss: 1.37\n",
      "Epoch 161/500, Loss: 0.57\n",
      "Epoch 171/500, Loss: 0.08\n",
      "Epoch 181/500, Loss: 1.55\n",
      "Epoch 191/500, Loss: 0.16\n",
      "Epoch 201/500, Loss: 0.02\n",
      "Epoch 211/500, Loss: 0.27\n",
      "Epoch 221/500, Loss: 0.91\n",
      "Epoch 231/500, Loss: 1.11\n",
      "Epoch 241/500, Loss: 0.93\n",
      "Epoch 251/500, Loss: 1.35\n",
      "Epoch 261/500, Loss: 0.72\n",
      "Epoch 271/500, Loss: 0.84\n",
      "Epoch 281/500, Loss: 0.06\n",
      "Epoch 291/500, Loss: 0.42\n",
      "Epoch 301/500, Loss: 0.6\n",
      "Epoch 311/500, Loss: 0.48\n",
      "Epoch 321/500, Loss: 1.57\n",
      "Epoch 331/500, Loss: 0.5\n",
      "Epoch 341/500, Loss: 0.03\n",
      "Epoch 351/500, Loss: 0.18\n",
      "Epoch 361/500, Loss: 0.18\n",
      "Epoch 371/500, Loss: 0.09\n",
      "Epoch 381/500, Loss: 0.7\n",
      "Epoch 391/500, Loss: 0.84\n",
      "Epoch 401/500, Loss: 1.01\n",
      "Epoch 411/500, Loss: 0.26\n",
      "Epoch 421/500, Loss: 0.02\n",
      "Epoch 431/500, Loss: 0.47\n",
      "Epoch 441/500, Loss: 0.25\n",
      "Epoch 451/500, Loss: 0.37\n",
      "Epoch 461/500, Loss: 0.88\n",
      "Epoch 471/500, Loss: 0.32\n",
      "Epoch 481/500, Loss: 0.06\n",
      "Epoch 491/500, Loss: 0.16\n"
     ]
    }
   ],
   "source": [
    "X = torch.tensor([[1,2],[3,4],[5,6],[7,8],[9,10],[10,11],[4,7],[3,8]],dtype=torch.float32)\n",
    "y = torch.tensor([[3],[7],[11],[15],[19],[21],[11],[11]],dtype=torch.float32)\n",
    "\n",
    "#Input Variables\n",
    "# X = torch.rand(100,2)\n",
    "# y = torch.rand(100).view(-1,1)\n",
    "\n",
    "input_size = 2\n",
    "output_size = 1\n",
    "\n",
    "model = MyNeuralNet(input_dimension=input_size, \n",
    "                    output_dimension=output_size)\n",
    "\n",
    "n_epochs = 500\n",
    "criterian = nn.L1Loss()\n",
    "optimizer = torch.optim.Adam(params = model.parameters(), lr=0.01)\n",
    "\n",
    "for epoch in range(n_epochs):\n",
    "    model.train()\n",
    "    \n",
    "    outputs = model(X)\n",
    "    loss = criterian(outputs, y)\n",
    "    \n",
    "    optimizer.zero_grad()\n",
    "    loss.backward()\n",
    "    optimizer.step()\n",
    "    \n",
    "    if epoch%10==0:\n",
    "        print(f'Epoch {epoch + 1}/{n_epochs}, Loss: {round(loss.item(),2)}')"
   ]
  },
  {
   "cell_type": "markdown",
   "id": "091b174e",
   "metadata": {},
   "source": [
    "## Inference Mode"
   ]
  },
  {
   "cell_type": "code",
   "execution_count": 4,
   "id": "aca9b698",
   "metadata": {},
   "outputs": [
    {
     "name": "stdout",
     "output_type": "stream",
     "text": [
      "tensor([[26.2419]])\n"
     ]
    }
   ],
   "source": [
    "x_test = torch.tensor([[13,11]], dtype=torch.float32)\n",
    "\n",
    "model.eval()\n",
    "with torch.no_grad():\n",
    "    prediction = model(x_test)\n",
    "\n",
    "print(prediction)"
   ]
  },
  {
   "cell_type": "markdown",
   "id": "9f9aaa30",
   "metadata": {},
   "source": []
  }
 ],
 "metadata": {
  "kernelspec": {
   "display_name": "genai",
   "language": "python",
   "name": "python3"
  },
  "language_info": {
   "codemirror_mode": {
    "name": "ipython",
    "version": 3
   },
   "file_extension": ".py",
   "mimetype": "text/x-python",
   "name": "python",
   "nbconvert_exporter": "python",
   "pygments_lexer": "ipython3",
   "version": "3.12.8"
  }
 },
 "nbformat": 4,
 "nbformat_minor": 5
}
