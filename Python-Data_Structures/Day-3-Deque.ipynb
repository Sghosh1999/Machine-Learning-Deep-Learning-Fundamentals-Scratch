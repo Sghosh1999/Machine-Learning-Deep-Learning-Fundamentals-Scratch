{
 "cells": [
  {
   "cell_type": "markdown",
   "id": "7e9cec67",
   "metadata": {
    "vscode": {
     "languageId": "markdown"
    }
   },
   "source": [
    "# Python `collections.deque`\n",
    "\n",
    "## What is `deque`?\n",
    "`deque` (pronounced \"deck\") stands for \"double-ended queue.\" It is a data structure provided by Python's `collections` module that allows you to efficiently add and remove elements from both ends of the queue. It is implemented as a doubly-linked list, making it highly efficient for operations at both ends.\n",
    "\n",
    "`deque` is particularly useful when you need a queue-like structure with fast appends and pops from both ends. It is thread-safe and can be bounded to limit the maximum number of elements.\n",
    "\n",
    "---\n",
    "\n",
    "## Properties of `deque`\n",
    "- **Double-ended**: You can add or remove elements from both ends.\n",
    "- **Thread-safe**: Operations on `deque` are atomic, making it safe for use in multi-threaded environments.\n",
    "- **Efficient**: Provides O(1) time complexity for append and pop operations at both ends.\n",
    "- **Rotations**: Supports rotating elements to the left or right.\n",
    "- **Reversible**: Can be reversed in place.\n",
    "\n",
    "---\n",
    "\n",
    "## Time Complexity Table for `deque`\n",
    "\n",
    "| Operation                     | Time Complexity | Description                                                                 |\n",
    "|-------------------------------|-----------------|-----------------------------------------------------------------------------|\n",
    "| `append(x)`                   | O(1)            | Add an element `x` to the right end of the deque.                          |\n",
    "| `appendleft(x)`               | O(1)            | Add an element `x` to the left end of the deque.                           |\n",
    "| `pop()`                       | O(1)            | Remove and return an element from the right end of the deque.              |\n",
    "| `popleft()`                   | O(1)            | Remove and return an element from the left end of the deque.               |\n",
    "| `extend(iterable)`            | O(k)            | Extend the deque by appending elements from the iterable to the right end. |\n",
    "| `extendleft(iterable)`        | O(k)            | Extend the deque by appending elements from the iterable to the left end.  |\n",
    "| `remove(value)`               | O(n)            | Remove the first occurrence of `value`.                                    |\n",
    "| `rotate(n)`                   | O(k)            | Rotate the deque `n` steps to the right (or left if `n` is negative).      |\n",
    "| `reverse()`                   | O(n)            | Reverse the elements of the deque in place.                                |\n",
    "| `index(value, [start, stop])` | O(n)            | Return the position of the first occurrence of `value`.                    |\n",
    "| `count(value)`                | O(n)            | Count the number of occurrences of `value`.                                |\n",
    "| `len(deque)`                  | O(1)            | Return the number of elements in the deque.                                |\n",
    "\n",
    "---\n"
   ]
  },
  {
   "cell_type": "code",
   "execution_count": 1,
   "id": "bad0bbd5",
   "metadata": {
    "vscode": {
     "languageId": "ruby"
    }
   },
   "outputs": [
    {
     "name": "stdout",
     "output_type": "stream",
     "text": [
      "After append(10): deque([10])\n",
      "After append(20): deque([10, 20])\n",
      "After appendleft(5): deque([5, 10, 20])\n",
      "After appendleft(1): deque([1, 5, 10, 20])\n",
      "After pop(): deque([1, 5, 10]), popped value: 20\n",
      "After popleft(): deque([5, 10]), popped value: 1\n",
      "Length of deque: 2\n"
     ]
    }
   ],
   "source": [
    "from collections import deque\n",
    "\n",
    "# Create an empty deque\n",
    "d = deque()\n",
    "\n",
    "# Append elements to the right end\n",
    "d.append(10)\n",
    "print(\"After append(10):\", d)\n",
    "\n",
    "d.append(20)\n",
    "print(\"After append(20):\", d)\n",
    "\n",
    "# Append elements to the left end\n",
    "d.appendleft(5)\n",
    "print(\"After appendleft(5):\", d)\n",
    "\n",
    "d.appendleft(1)\n",
    "print(\"After appendleft(1):\", d)\n",
    "\n",
    "# Pop element from the right end\n",
    "right = d.pop()\n",
    "print(f\"After pop(): {d}, popped value: {right}\")\n",
    "\n",
    "# Pop element from the left end\n",
    "left = d.popleft()\n",
    "print(f\"After popleft(): {d}, popped value: {left}\")\n",
    "\n",
    "# Get the length of the deque\n",
    "length = len(d)\n",
    "print(\"Length of deque:\", length)"
   ]
  },
  {
   "cell_type": "markdown",
   "id": "8ee7c8eb",
   "metadata": {},
   "source": [
    "### Sample Questions"
   ]
  },
  {
   "cell_type": "code",
   "execution_count": null,
   "id": "2a30ae1b",
   "metadata": {},
   "outputs": [],
   "source": [
    "# 1. Sliding Window Maximum\n",
    "# 2. Sliding Window Minimum\n",
    "# 3. Implement a Queue using Deque\n",
    "# 4. Implement a Stack using Deque\n",
    "# 5. Check if a given string is a palindrome\n",
    "# 6. Generate all binary numbers from 1 to N\n",
    "# 7. First negative integer in every window of size K\n",
    "# 8. Maximum of all subarrays of size K\n",
    "# 9. Minimum of all subarrays of size K\n",
    "# 10. Implement a circular queue\n",
    "# 11. Design a hit counter (count hits in the last 5 minutes)\n",
    "# 12. Find the first non-repeating character in a stream\n",
    "# 13. Reverse the first K elements of a queue\n",
    "# 14. Sort a queue using recursion\n",
    "# 15. Check if all levels of a binary tree are anagrams\n",
    "# 16. Implement a deque-based LRU Cache\n",
    "# 17. Find the shortest path in an unweighted graph\n",
    "# 18. Check if a given sequence of operations is valid for a deque\n",
    "# 19. Rotate a deque by K steps\n",
    "# 20. Merge K sorted arrays using a deque"
   ]
  },
  {
   "cell_type": "markdown",
   "id": "61ceb834",
   "metadata": {
    "vscode": {
     "languageId": "markdown"
    }
   },
   "source": [
    "### Checking if a String is a Palindrome Using `deque`\n",
    "\n",
    "#### Intuition\n",
    "\n",
    "A palindrome is a string that reads the same forwards and backwards (e.g., \"radar\", \"level\"). To check if a string is a palindrome using a `deque`, we can leverage its efficient operations at both ends:\n",
    "\n",
    "1. **Insert all characters of the string into a deque.**\n",
    "2. **Iteratively compare and remove characters from both ends:**\n",
    "    - Remove one character from the left end and one from the right end.\n",
    "    - If at any point the characters differ, the string is not a palindrome.\n",
    "    - Continue until the deque has zero or one character left.\n",
    "\n",
    "This approach works efficiently because `deque` allows O(1) pops from both ends.\n",
    "\n",
    "#### Time Complexity\n",
    "\n",
    "- **O(n)**, where n is the length of the string. Each character is checked at most once.\n",
    "\n",
    "#### Sample Inputs and Outputs\n",
    "\n",
    "| Input      | Output   | Explanation                        |\n",
    "|------------|----------|------------------------------------|\n",
    "| \"radar\"    | True     | Reads the same forwards/backwards  |\n",
    "| \"level\"    | True     | Reads the same forwards/backwards  |\n",
    "| \"hello\"    | False    | 'h' != 'o'                         |\n",
    "| \"a\"        | True     | Single character is a palindrome   |\n",
    "| \"\"         | True     | Empty string is a palindrome       |"
   ]
  },
  {
   "cell_type": "code",
   "execution_count": 4,
   "id": "37bb4cab",
   "metadata": {},
   "outputs": [
    {
     "name": "stdout",
     "output_type": "stream",
     "text": [
      "True\n"
     ]
    }
   ],
   "source": [
    "from collections import deque\n",
    "\n",
    "str = \"radar\"\n",
    "\n",
    "def is_pallindrome(str):\n",
    "    d = deque()\n",
    "\n",
    "    for i in str:\n",
    "        d.append(i)\n",
    "    \n",
    "    while len(d) > 1:\n",
    "        if d.popleft() != d.pop():\n",
    "            return False\n",
    "    \n",
    "    return True\n",
    "\n",
    "print(is_pallindrome(str))"
   ]
  },
  {
   "cell_type": "markdown",
   "id": "44814d96",
   "metadata": {},
   "source": [
    "### 239 : Sliding Window Maximum\n",
    "\n",
    "[Question Link - Leetcode](!https://leetcode.com/problems/sliding-window-maximum/)"
   ]
  },
  {
   "cell_type": "code",
   "execution_count": 6,
   "id": "3d25ac26",
   "metadata": {},
   "outputs": [
    {
     "name": "stdout",
     "output_type": "stream",
     "text": [
      "[3, 3, 5, 5, 6, 7]\n"
     ]
    }
   ],
   "source": [
    "## Brute Force Solution\n",
    "def maxSlidingWindow(nums, k):\n",
    "    \"\"\"\n",
    "    :type nums: List[int]\n",
    "    :type k: int\n",
    "    :rtype: List[int]\n",
    "    \"\"\"\n",
    "    \n",
    "    result = []\n",
    "    for i in range(len(nums)-k+1):\n",
    "        max_ele = max(nums[i:i+k])\n",
    "        result.append(max_ele)\n",
    "    return result\n",
    "\n",
    "nums = [1,3,-1,-3,5,3,6,7]\n",
    "k = 3\n",
    "print(maxSlidingWindow(nums, k))"
   ]
  },
  {
   "cell_type": "markdown",
   "id": "105cfcd5",
   "metadata": {
    "vscode": {
     "languageId": "markdown"
    }
   },
   "source": [
    "### Sliding Window Maximum Using Deque: Intuition and Dry Run\n",
    "\n",
    "#### Intuition\n",
    "\n",
    "The goal is to find the maximum value in every sliding window of size `k` in the list `nums`. A brute-force approach would check every window, but this is inefficient. Instead, we use a **deque** to keep track of potential maximums for the current window:\n",
    "\n",
    "- The deque stores elements in decreasing order (the largest at the front).\n",
    "- For each new element, we remove all elements from the back of the deque that are smaller than the current element, since they cannot be the maximum for any future window.\n",
    "- We append the current element to the deque.\n",
    "- If the element that is sliding out of the window is at the front of the deque, we remove it.\n",
    "- The front of the deque always contains the maximum for the current window.\n",
    "\n",
    "#### Dry Run\n",
    "\n",
    "Suppose `nums = [1,3,-1,-3,5,3,6,7]` and `k = 3`.\n",
    "\n",
    "| idx | num | dq (after pops) | dq (after append) | result (after window) |\n",
    "|-----|-----|-----------------|-------------------|-----------------------|\n",
    "| 0   | 1   | []              | [1]               |                       |\n",
    "| 1   | 3   | []              | [3]               |                       |\n",
    "| 2   | -1  | [3]             | [3, -1]           | [3]                  |\n",
    "| 3   | -3  | [3, -1]         | [3, -1, -3]       | [3, 3]               |\n",
    "| 4   | 5   | []              | [5]               | [3, 3, 5]            |\n",
    "| 5   | 3   | [5]             | [5, 3]            | [3, 3, 5, 5]         |\n",
    "| 6   | 6   | []              | [6]               | [3, 3, 5, 5, 6]      |\n",
    "| 7   | 7   | []              | [7]               | [3, 3, 5, 5, 6, 7]   |\n",
    "\n",
    "- At each step, we remove smaller elements from the back of the deque.\n",
    "- We append the current element.\n",
    "- If the window has moved past the first element in the deque, we remove it.\n",
    "- Once the first window is complete (`idx >= k-1`), we append the front of the deque to the result.\n",
    "\n",
    "This approach ensures each element is added and removed from the deque at most once, resulting in **O(n)** time complexity."
   ]
  },
  {
   "cell_type": "code",
   "execution_count": 17,
   "id": "d38bdef2",
   "metadata": {},
   "outputs": [
    {
     "name": "stdout",
     "output_type": "stream",
     "text": [
      "\n",
      "Index: 0, Number: 5\n",
      "Deque before processing: []\n",
      "Appended 5 to deque: [5]\n",
      "\n",
      "Index: 1, Number: 3\n",
      "Deque before processing: [5]\n",
      "Appended 3 to deque: [5, 3]\n",
      "\n",
      "Index: 2, Number: -1\n",
      "Deque before processing: [5, 3]\n",
      "Appended -1 to deque: [5, 3, -1]\n",
      "Current window max: 5\n",
      "\n",
      "Index: 3, Number: -3\n",
      "Deque before processing: [5, 3, -1]\n",
      "Appended -3 to deque: [5, 3, -1, -3]\n",
      "  Popped from front (out of window): 5 | Index: 3 | Nums Index : 0\n",
      "Current window max: 3\n",
      "\n",
      "Index: 4, Number: 4\n",
      "Deque before processing: [3, -1, -3]\n",
      "  Popped from back (smaller than 4): -3\n",
      "  Popped from back (smaller than 4): -1\n",
      "  Popped from back (smaller than 4): 3\n",
      "Appended 4 to deque: [4]\n",
      "Current window max: 4\n",
      "\n",
      "Final result: [5, 3, 4]\n",
      "[5, 3, 4]\n"
     ]
    }
   ],
   "source": [
    "from collections import deque\n",
    "\n",
    "def maxSlidingWindow(nums, k):\n",
    "    dq = deque()\n",
    "    result = []\n",
    "\n",
    "    for idx, num in enumerate(nums):\n",
    "        print(f\"\\nIndex: {idx}, Number: {num}\")\n",
    "        print(f\"Deque before processing: {list(dq)}\")\n",
    "\n",
    "        # Remove elements smaller than the current from the back\n",
    "        while dq and dq[-1] < num:\n",
    "            removed = dq.pop()\n",
    "            print(f\"  Popped from back (smaller than {num}): {removed}\")\n",
    "\n",
    "        dq.append(num)\n",
    "        print(f\"Appended {num} to deque: {list(dq)}\")\n",
    "\n",
    "        # Remove the element going out of the window from the front\n",
    "        if idx >= k and nums[idx - k] == dq[0]:\n",
    "            removed = dq.popleft()\n",
    "            print(f\"  Popped from front (out of window): {removed} | Index: {idx} | Nums Index : {idx - k}\")\n",
    "\n",
    "        # Append the current max to result once the first window is complete\n",
    "        if idx >= k - 1:\n",
    "            print(f\"Current window max: {dq[0]}\")\n",
    "            result.append(dq[0])\n",
    "\n",
    "    print(\"\\nFinal result:\", result)\n",
    "    return result\n",
    "\n",
    "nums = [5,3,-1,-3,4]\n",
    "k = 3\n",
    "print(maxSlidingWindow(nums, k))"
   ]
  },
  {
   "cell_type": "code",
   "execution_count": null,
   "id": "4d248119",
   "metadata": {},
   "outputs": [],
   "source": []
  },
  {
   "cell_type": "code",
   "execution_count": null,
   "id": "c0e63a73",
   "metadata": {},
   "outputs": [],
   "source": []
  }
 ],
 "metadata": {
  "kernelspec": {
   "display_name": "Python 3 (ipykernel)",
   "language": "python",
   "name": "python3"
  },
  "language_info": {
   "codemirror_mode": {
    "name": "ipython",
    "version": 3
   },
   "file_extension": ".py",
   "mimetype": "text/x-python",
   "name": "python",
   "nbconvert_exporter": "python",
   "pygments_lexer": "ipython3",
   "version": "3.10.14"
  }
 },
 "nbformat": 4,
 "nbformat_minor": 5
}
