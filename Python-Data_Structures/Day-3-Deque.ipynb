{
 "cells": [
  {
   "cell_type": "markdown",
   "id": "7e9cec67",
   "metadata": {
    "vscode": {
     "languageId": "markdown"
    }
   },
   "source": [
    "# Python `collections.deque`\n",
    "\n",
    "## What is `deque`?\n",
    "`deque` (pronounced \"deck\") stands for \"double-ended queue.\" It is a data structure provided by Python's `collections` module that allows you to efficiently add and remove elements from both ends of the queue. It is implemented as a doubly-linked list, making it highly efficient for operations at both ends.\n",
    "\n",
    "`deque` is particularly useful when you need a queue-like structure with fast appends and pops from both ends. It is thread-safe and can be bounded to limit the maximum number of elements.\n",
    "\n",
    "---\n",
    "\n",
    "## Properties of `deque`\n",
    "- **Double-ended**: You can add or remove elements from both ends.\n",
    "- **Thread-safe**: Operations on `deque` are atomic, making it safe for use in multi-threaded environments.\n",
    "- **Efficient**: Provides O(1) time complexity for append and pop operations at both ends.\n",
    "- **Rotations**: Supports rotating elements to the left or right.\n",
    "- **Reversible**: Can be reversed in place.\n",
    "\n",
    "---\n",
    "\n",
    "## Time Complexity Table for `deque`\n",
    "\n",
    "| Operation                     | Time Complexity | Description                                                                 |\n",
    "|-------------------------------|-----------------|-----------------------------------------------------------------------------|\n",
    "| `append(x)`                   | O(1)            | Add an element `x` to the right end of the deque.                          |\n",
    "| `appendleft(x)`               | O(1)            | Add an element `x` to the left end of the deque.                           |\n",
    "| `pop()`                       | O(1)            | Remove and return an element from the right end of the deque.              |\n",
    "| `popleft()`                   | O(1)            | Remove and return an element from the left end of the deque.               |\n",
    "| `extend(iterable)`            | O(k)            | Extend the deque by appending elements from the iterable to the right end. |\n",
    "| `extendleft(iterable)`        | O(k)            | Extend the deque by appending elements from the iterable to the left end.  |\n",
    "| `remove(value)`               | O(n)            | Remove the first occurrence of `value`.                                    |\n",
    "| `rotate(n)`                   | O(k)            | Rotate the deque `n` steps to the right (or left if `n` is negative).      |\n",
    "| `reverse()`                   | O(n)            | Reverse the elements of the deque in place.                                |\n",
    "| `index(value, [start, stop])` | O(n)            | Return the position of the first occurrence of `value`.                    |\n",
    "| `count(value)`                | O(n)            | Count the number of occurrences of `value`.                                |\n",
    "| `len(deque)`                  | O(1)            | Return the number of elements in the deque.                                |\n",
    "\n",
    "---\n"
   ]
  },
  {
   "cell_type": "code",
   "execution_count": 1,
   "id": "bad0bbd5",
   "metadata": {
    "vscode": {
     "languageId": "ruby"
    }
   },
   "outputs": [
    {
     "name": "stdout",
     "output_type": "stream",
     "text": [
      "After append(10): deque([10])\n",
      "After append(20): deque([10, 20])\n",
      "After appendleft(5): deque([5, 10, 20])\n",
      "After appendleft(1): deque([1, 5, 10, 20])\n",
      "After pop(): deque([1, 5, 10]), popped value: 20\n",
      "After popleft(): deque([5, 10]), popped value: 1\n",
      "Length of deque: 2\n"
     ]
    }
   ],
   "source": [
    "from collections import deque\n",
    "\n",
    "# Create an empty deque\n",
    "d = deque()\n",
    "\n",
    "# Append elements to the right end\n",
    "d.append(10)\n",
    "print(\"After append(10):\", d)\n",
    "\n",
    "d.append(20)\n",
    "print(\"After append(20):\", d)\n",
    "\n",
    "# Append elements to the left end\n",
    "d.appendleft(5)\n",
    "print(\"After appendleft(5):\", d)\n",
    "\n",
    "d.appendleft(1)\n",
    "print(\"After appendleft(1):\", d)\n",
    "\n",
    "# Pop element from the right end\n",
    "right = d.pop()\n",
    "print(f\"After pop(): {d}, popped value: {right}\")\n",
    "\n",
    "# Pop element from the left end\n",
    "left = d.popleft()\n",
    "print(f\"After popleft(): {d}, popped value: {left}\")\n",
    "\n",
    "# Get the length of the deque\n",
    "length = len(d)\n",
    "print(\"Length of deque:\", length)"
   ]
  },
  {
   "cell_type": "markdown",
   "id": "8ee7c8eb",
   "metadata": {},
   "source": [
    "### Sample Questions"
   ]
  },
  {
   "cell_type": "code",
   "execution_count": null,
   "id": "2a30ae1b",
   "metadata": {},
   "outputs": [],
   "source": [
    "# 1. Sliding Window Maximum\n",
    "# 2. Sliding Window Minimum\n",
    "# 3. Implement a Queue using Deque\n",
    "# 4. Implement a Stack using Deque\n",
    "# 5. Check if a given string is a palindrome\n",
    "# 6. Generate all binary numbers from 1 to N\n",
    "# 7. First negative integer in every window of size K\n",
    "# 8. Maximum of all subarrays of size K\n",
    "# 9. Minimum of all subarrays of size K\n",
    "# 10. Implement a circular queue\n",
    "# 11. Design a hit counter (count hits in the last 5 minutes)\n",
    "# 12. Find the first non-repeating character in a stream\n",
    "# 13. Reverse the first K elements of a queue\n",
    "# 14. Sort a queue using recursion\n",
    "# 15. Check if all levels of a binary tree are anagrams\n",
    "# 16. Implement a deque-based LRU Cache\n",
    "# 17. Find the shortest path in an unweighted graph\n",
    "# 18. Check if a given sequence of operations is valid for a deque\n",
    "# 19. Rotate a deque by K steps\n",
    "# 20. Merge K sorted arrays using a deque"
   ]
  },
  {
   "cell_type": "markdown",
   "id": "61ceb834",
   "metadata": {
    "vscode": {
     "languageId": "markdown"
    }
   },
   "source": [
    "### Checking if a String is a Palindrome Using `deque`\n",
    "\n",
    "#### Intuition\n",
    "\n",
    "A palindrome is a string that reads the same forwards and backwards (e.g., \"radar\", \"level\"). To check if a string is a palindrome using a `deque`, we can leverage its efficient operations at both ends:\n",
    "\n",
    "1. **Insert all characters of the string into a deque.**\n",
    "2. **Iteratively compare and remove characters from both ends:**\n",
    "    - Remove one character from the left end and one from the right end.\n",
    "    - If at any point the characters differ, the string is not a palindrome.\n",
    "    - Continue until the deque has zero or one character left.\n",
    "\n",
    "This approach works efficiently because `deque` allows O(1) pops from both ends.\n",
    "\n",
    "#### Time Complexity\n",
    "\n",
    "- **O(n)**, where n is the length of the string. Each character is checked at most once.\n",
    "\n",
    "#### Sample Inputs and Outputs\n",
    "\n",
    "| Input      | Output   | Explanation                        |\n",
    "|------------|----------|------------------------------------|\n",
    "| \"radar\"    | True     | Reads the same forwards/backwards  |\n",
    "| \"level\"    | True     | Reads the same forwards/backwards  |\n",
    "| \"hello\"    | False    | 'h' != 'o'                         |\n",
    "| \"a\"        | True     | Single character is a palindrome   |\n",
    "| \"\"         | True     | Empty string is a palindrome       |"
   ]
  },
  {
   "cell_type": "code",
   "execution_count": 4,
   "id": "37bb4cab",
   "metadata": {},
   "outputs": [
    {
     "name": "stdout",
     "output_type": "stream",
     "text": [
      "True\n"
     ]
    }
   ],
   "source": [
    "from collections import deque\n",
    "\n",
    "str = \"radar\"\n",
    "\n",
    "def is_pallindrome(str):\n",
    "    d = deque()\n",
    "\n",
    "    for i in str:\n",
    "        d.append(i)\n",
    "    \n",
    "    while len(d) > 1:\n",
    "        if d.popleft() != d.pop():\n",
    "            return False\n",
    "    \n",
    "    return True\n",
    "\n",
    "print(is_pallindrome(str))"
   ]
  },
  {
   "cell_type": "markdown",
   "id": "44814d96",
   "metadata": {},
   "source": [
    "### 239 : Sliding Window Maximum\n",
    "\n",
    "[Question Link - Leetcode](!https://leetcode.com/problems/sliding-window-maximum/)"
   ]
  },
  {
   "cell_type": "code",
   "execution_count": 6,
   "id": "3d25ac26",
   "metadata": {},
   "outputs": [
    {
     "name": "stdout",
     "output_type": "stream",
     "text": [
      "[3, 3, 5, 5, 6, 7]\n"
     ]
    }
   ],
   "source": [
    "## Brute Force Solution\n",
    "def maxSlidingWindow(nums, k):\n",
    "    \"\"\"\n",
    "    :type nums: List[int]\n",
    "    :type k: int\n",
    "    :rtype: List[int]\n",
    "    \"\"\"\n",
    "    \n",
    "    result = []\n",
    "    for i in range(len(nums)-k+1):\n",
    "        max_ele = max(nums[i:i+k])\n",
    "        result.append(max_ele)\n",
    "    return result\n",
    "\n",
    "nums = [1,3,-1,-3,5,3,6,7]\n",
    "k = 3\n",
    "print(maxSlidingWindow(nums, k))"
   ]
  },
  {
   "cell_type": "markdown",
   "id": "73e65e36",
   "metadata": {
    "vscode": {
     "languageId": "markdown"
    }
   },
   "source": [
    "### Intuition and Dry Run: Sliding Window Maximum using Deque\n",
    "\n",
    "#### Intuition\n",
    "\n",
    "The brute force approach for finding the maximum in every sliding window of size `k` is inefficient because it repeatedly scans the same elements. To optimize, we use a **deque** to keep track of indices of elements that are potential maximums for the current window.\n",
    "\n",
    "The deque is maintained such that:\n",
    "- The indices in the deque are always within the current window.\n",
    "- The values corresponding to the indices in the deque are in decreasing order (from front to back).\n",
    "- The front of the deque always contains the index of the maximum element for the current window.\n",
    "\n",
    "**How it works:**\n",
    "1. For each element, remove indices from the back of the deque if their corresponding values are less than the current element (since they can't be the maximum for any future window).\n",
    "2. Remove indices from the front if they are out of the current window.\n",
    "3. Add the current index to the deque.\n",
    "4. The element at the front of the deque is the maximum for the current window.\n",
    "\n",
    "---\n",
    "\n",
    "#### Dry Run\n",
    "\n",
    "Let’s dry run with `nums = [1,3,-1,-3,5,3,6,7]`, `k = 3`:\n",
    "\n",
    "| Step | i | num | dq (indices) | dq (values)      | result |\n",
    "|------|---|-----|--------------|------------------|--------|\n",
    "| 1    | 0 | 1   | [0]          | [1]              |        |\n",
    "| 2    | 1 | 3   | [1]          | [3]              |        |\n",
    "| 3    | 2 | -1  | [1,2]        | [3,-1]           | [3]    |\n",
    "| 4    | 3 | -3  | [1,2,3]      | [3,-1,-3]        | [3,3]  |\n",
    "| 5    | 4 | 5   | [4]          | [5]              | [3,3,5]|\n",
    "| 6    | 5 | 3   | [4,5]        | [5,3]            | [3,3,5,5]|\n",
    "| 7    | 6 | 6   | [6]          | [6]              | [3,3,5,5,6]|\n",
    "| 8    | 7 | 7   | [7]          | [7]              | [3,3,5,5,6,7]|\n",
    "\n",
    "- At each step, we remove indices from the deque that are out of the window or whose values are less than the current number.\n",
    "- The result is appended once the first window is complete (`i >= k-1`).\n",
    "\n",
    "---\n",
    "\n",
    "#### Time Complexity\n",
    "\n",
    "- **O(n)**, where n is the length of `nums`.\n",
    "    - Each element is added and removed from the deque at most once.\n",
    "    - All operations with the deque (append, pop from both ends) are O(1).\n",
    "\n",
    "This makes the deque-based solution highly efficient for the sliding window maximum problem."
   ]
  },
  {
   "cell_type": "code",
   "execution_count": 2,
   "id": "9525f6ea-27eb-4c42-961d-27037138dd47",
   "metadata": {},
   "outputs": [
    {
     "name": "stdout",
     "output_type": "stream",
     "text": [
      "\n",
      "Step 0:\n",
      "Current number: 1\n",
      "Deque before: [] (values: [])\n",
      "Deque after: [0] (values: [1])\n",
      "\n",
      "Step 1:\n",
      "Current number: 3\n",
      "Deque before: [0] (values: [1])\n",
      "Removing index 0 (value: 1) - less than current num 3\n",
      "Deque after: [1] (values: [3])\n",
      "\n",
      "Step 2:\n",
      "Current number: -1\n",
      "Deque before: [1] (values: [3])\n",
      "Deque after: [1, 2] (values: [3, -1])\n",
      "\n",
      "Step 3:\n",
      "Current number: -3\n",
      "Deque before: [1, 2] (values: [3, -1])\n",
      "Deque after: [1, 2, 3] (values: [3, -1, -3])\n",
      "\n",
      "Step 4:\n",
      "Current number: 5\n",
      "Deque before: [1, 2, 3] (values: [3, -1, -3])\n",
      "Removing index 1 (value: 3) - out of window [1, 4]\n",
      "Removing index 3 (value: -3) - less than current num 5\n",
      "Removing index 2 (value: -1) - less than current num 5\n",
      "Deque after: [4] (values: [5])\n",
      "\n",
      "Step 5:\n",
      "Current number: 3\n",
      "Deque before: [4] (values: [5])\n",
      "Deque after: [4, 5] (values: [5, 3])\n",
      "\n",
      "Step 6:\n",
      "Current number: 6\n",
      "Deque before: [4, 5] (values: [5, 3])\n",
      "Removing index 5 (value: 3) - less than current num 6\n",
      "Removing index 4 (value: 5) - less than current num 6\n",
      "Deque after: [6] (values: [6])\n",
      "\n",
      "Step 7:\n",
      "Current number: 7\n",
      "Deque before: [6] (values: [6])\n",
      "Removing index 6 (value: 6) - less than current num 7\n",
      "Deque after: [7] (values: [7])\n"
     ]
    }
   ],
   "source": [
    "from collections import deque\n",
    "\n",
    "# Let's illustrate the dry run for this part of the code using the given nums and k:\n",
    "# nums = [1,3,-1,-3,5,3,6,7], k = 3\n",
    "\n",
    "\n",
    "nums = [1,3,-1,-3,5,3,6,7]\n",
    "k = 3\n",
    "dq = deque()\n",
    "\n",
    "for i, num in enumerate(nums):\n",
    "    print(f\"\\nStep {i}:\")\n",
    "    print(f\"Current number: {num}\")\n",
    "    print(f\"Deque before: {list(dq)} (values: {[nums[idx] for idx in dq]})\")\n",
    "    \n",
    "    # Remove indices out of the current window\n",
    "    if dq and dq[0] <= i - k:\n",
    "        print(f\"Removing index {dq[0]} (value: {nums[dq[0]]}) - out of window [{i-k}, {i}]\")\n",
    "        dq.popleft()\n",
    "    \n",
    "    # Remove indices whose values are less than current num\n",
    "    while dq and nums[dq[-1]] < num:\n",
    "        print(f\"Removing index {dq[-1]} (value: {nums[dq[-1]]}) - less than current num {num}\")\n",
    "        dq.pop()\n",
    "    \n",
    "    dq.append(i)\n",
    "    print(f\"Deque after: {list(dq)} (values: {[nums[idx] for idx in dq]})\")"
   ]
  },
  {
   "cell_type": "code",
   "execution_count": null,
   "id": "1b8fb8a1",
   "metadata": {},
   "outputs": [],
   "source": [
    "from collections import deque\n",
    "\n",
    "def maxSlidingWindow(nums, k):\n",
    "    dq = deque()\n",
    "    result = []\n",
    "    for i, num in enumerate(nums):\n",
    "        # Remove indices out of the current window\n",
    "        if dq and dq[0] <= i - k:\n",
    "            dq.popleft()\n",
    "        # Remove indices whose values are less than current num\n",
    "        while dq and nums[dq[-1]] < num:\n",
    "            dq.pop()\n",
    "        dq.append(i)\n",
    "        # Append the current max to result\n",
    "        if i >= k - 1:\n",
    "            result.append(nums[dq[0]])\n",
    "    return result\n",
    "\n",
    "print(maxSlidingWindow(nums, k))"
   ]
  },
  {
   "cell_type": "code",
   "execution_count": null,
   "id": "4d248119",
   "metadata": {},
   "outputs": [],
   "source": []
  },
  {
   "cell_type": "code",
   "execution_count": 9,
   "id": "c0e63a73",
   "metadata": {},
   "outputs": [],
   "source": []
  },
  {
   "cell_type": "code",
   "execution_count": 14,
   "id": "cb1497ad-d11f-4654-bab8-b599530f8808",
   "metadata": {},
   "outputs": [
    {
     "name": "stdout",
     "output_type": "stream",
     "text": [
      " Sorted Tasks: [1, 2, 3]\n",
      " Sorted Workers: [3, 3, 0]\n",
      "\n",
      "\n",
      "No Pills Case : 3 >= 1\n",
      "No Pills Case : 3 >= 2\n",
      "2\n"
     ]
    }
   ],
   "source": [
    "tasks = [5,9,8,5,9]\n",
    "workers = [1,6,4,2,6]\n",
    "pills = 1\n",
    "strength = 5\n",
    "\n",
    "sorted_tasks = sorted(tasks)\n",
    "sorted_workers = sorted(workers, reverse=True)\n",
    "\n",
    "print(f\" Sorted Tasks: {sorted_tasks}\")\n",
    "print(f\" Sorted Workers: {sorted_workers}\\n\\n\")\n",
    "\n",
    "count = 0\n",
    "for i in range(len(sorted_tasks)):\n",
    "    if i < len(sorted_workers):\n",
    "        if sorted_workers[i] >= sorted_tasks[i]:\n",
    "            print(f\"No Pills Case : {sorted_workers[i]} >= {sorted_tasks[i]}\")\n",
    "            count +=1\n",
    "        elif pills > 0 and sorted_workers[i] + strength >= sorted_tasks[i]:\n",
    "            print(f\"Pills Case : {sorted_workers[i] + strength} >= {sorted_tasks[i]}\")\n",
    "            print(f\"Pill Count: {pills}\")\n",
    "            count += 1\n",
    "            pills -= 1\n",
    "\n",
    "print(count)"
   ]
  },
  {
   "cell_type": "code",
   "execution_count": null,
   "id": "71eb78e5-7c6f-40eb-99d6-f80a8624c333",
   "metadata": {},
   "outputs": [],
   "source": [
    "sorted_tasks = sorted(tasks)\n",
    "        sorted_workers = sorted(workers, reverse=True)\n",
    "\n",
    "        count = 0\n",
    "        for i in range(len(sorted_tasks)):\n",
    "            if i < len(sorted_workers):\n",
    "                if sorted_workers[i] >= tasks[i]:\n",
    "                    print(sorted_workers[i], tasks[i])\n",
    "                    count +=1\n",
    "                elif pills > 0 and sorted_workers[i] + strength >= tasks[i]:\n",
    "                    print(sorted_workers[i], tasks[i])\n",
    "                    count += 1\n",
    "                    pills -= 1"
   ]
  },
  {
   "cell_type": "code",
   "execution_count": 18,
   "id": "e9b595fc-8d2e-45b8-acfa-030a380eb7d4",
   "metadata": {},
   "outputs": [
    {
     "data": {
      "text/plain": [
       "[2, 6]"
      ]
     },
     "execution_count": 18,
     "metadata": {},
     "output_type": "execute_result"
    }
   ],
   "source": [
    "workers = [1,6,4,2,6]\n",
    "workers[-2:]"
   ]
  },
  {
   "cell_type": "code",
   "execution_count": null,
   "id": "388cb115-db13-4b52-b9ab-c408deb769d1",
   "metadata": {},
   "outputs": [],
   "source": []
  }
 ],
 "metadata": {
  "kernelspec": {
   "display_name": "Python 3 (ipykernel)",
   "language": "python",
   "name": "python3"
  },
  "language_info": {
   "codemirror_mode": {
    "name": "ipython",
    "version": 3
   },
   "file_extension": ".py",
   "mimetype": "text/x-python",
   "name": "python",
   "nbconvert_exporter": "python",
   "pygments_lexer": "ipython3",
   "version": "3.10.14"
  }
 },
 "nbformat": 4,
 "nbformat_minor": 5
}
