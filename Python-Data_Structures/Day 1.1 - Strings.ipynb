{
 "cells": [
  {
   "cell_type": "markdown",
   "id": "54e7e5de",
   "metadata": {},
   "source": [
    "## Q1. Find all Substrings of a Given String\n",
    "\n",
    "The function generates all possible substrings of a given string.\n",
    "\n",
    "**Time Complexity:**  \n",
    "The time complexity is **O(n²)**, where *n* is the length of the string. This is because there are O(n²) possible substrings in a string of length n."
   ]
  },
  {
   "cell_type": "code",
   "execution_count": 2,
   "id": "1a438963",
   "metadata": {},
   "outputs": [
    {
     "name": "stdout",
     "output_type": "stream",
     "text": [
      "p\n",
      "pq\n",
      "pqr\n",
      "pqrs\n",
      "q\n",
      "qr\n",
      "qrs\n",
      "r\n",
      "rs\n",
      "s\n"
     ]
    }
   ],
   "source": [
    "## Find all Substrings of a string\n",
    "\n",
    "def findAllSubstring(s: str):\n",
    "    n = len(s)\n",
    "    for i in range(n):\n",
    "        for j in range(i+1, n+1):\n",
    "            print(s[i:j])\n",
    "\n",
    "\n",
    "findAllSubstring(\"pqrs\")"
   ]
  },
  {
   "cell_type": "markdown",
   "id": "ebecf81f",
   "metadata": {},
   "source": [
    "## Q2. Permutations of a Given String\n",
    "\n",
    "The function generates all possible permutations of a given string.\n",
    "\n",
    "**Time Complexity:**  \n",
    "The time complexity is **O(n × n!)**, where *n* is the length of the string. This is because there are *n!* possible permutations, and generating each permutation takes O(n) time.\n"
   ]
  },
  {
   "cell_type": "markdown",
   "id": "1d106580",
   "metadata": {},
   "source": [
    "Here is the recursion tree for the `permute(\"123\")` function. Each level of the tree represents a recursive call, and the branches represent the choices made at each step.\n",
    "\n",
    "### Recursion Tree for `permute(\"123\")`\n",
    "\n"
   ]
  },
  {
   "cell_type": "code",
   "execution_count": null,
   "id": "55106323",
   "metadata": {
    "vscode": {
     "languageId": ""
    }
   },
   "outputs": [],
   "source": [
    "permute(\"123\", \"\")\n",
    "├── permute(\"23\", \"1\")\n",
    "│   ├── permute(\"3\", \"12\")\n",
    "│   │   ├── permute(\"\", \"123\") -> \"123\"\n",
    "│   └── permute(\"2\", \"13\")\n",
    "│       ├── permute(\"\", \"132\") -> \"132\"\n",
    "├── permute(\"13\", \"2\")\n",
    "│   ├── permute(\"3\", \"21\")\n",
    "│   │   ├── permute(\"\", \"213\") -> \"213\"\n",
    "│   └── permute(\"1\", \"23\")\n",
    "│       ├── permute(\"\", \"231\") -> \"231\"\n",
    "└── permute(\"12\", \"3\")\n",
    "    ├── permute(\"2\", \"31\")\n",
    "    │   ├── permute(\"\", \"312\") -> \"312\"\n",
    "    └── permute(\"1\", \"32\")\n",
    "        ├── permute(\"\", \"321\") -> \"321\""
   ]
  },
  {
   "cell_type": "markdown",
   "id": "7f0c5c41",
   "metadata": {},
   "source": [
    "\n",
    "\n",
    "### Explanation of the Tree:\n",
    "1. **Root Node:** The initial call is `permute(\"123\", \"\")`. At this level, the function iterates over each character in `\"123\"`, choosing one character at a time as the prefix (`answer`) and passing the rest of the string (`rest`) to the next recursive call.\n",
    "\n",
    "2. **First Level:**\n",
    "   - The first recursive call is `permute(\"23\", \"1\")`, where `\"1\"` is chosen as the prefix.\n",
    "   - The second recursive call is `permute(\"13\", \"2\")`, where `\"2\"` is chosen as the prefix.\n",
    "   - The third recursive call is `permute(\"12\", \"3\")`, where `\"3\"` is chosen as the prefix.\n",
    "\n",
    "3. **Second Level:**\n",
    "   - For each recursive call at the first level, the function iterates over the remaining characters, choosing one character as the next prefix and passing the rest to the next recursive call.\n",
    "\n",
    "4. **Base Case:** When the string `s` becomes empty, the function prints the accumulated `answer`, which is a complete permutation.\n",
    "\n",
    "### Output:\n",
    "The permutations generated are:\n"
   ]
  },
  {
   "cell_type": "code",
   "execution_count": null,
   "id": "a83bfa21",
   "metadata": {
    "vscode": {
     "languageId": ""
    }
   },
   "outputs": [],
   "source": [
    "123\n",
    "132\n",
    "213\n",
    "231\n",
    "312\n",
    "321"
   ]
  },
  {
   "cell_type": "code",
   "execution_count": 6,
   "id": "8ecc9483",
   "metadata": {},
   "outputs": [
    {
     "name": "stdout",
     "output_type": "stream",
     "text": [
      "123\n",
      "132\n",
      "213\n",
      "231\n",
      "312\n",
      "321\n"
     ]
    }
   ],
   "source": [
    "def permute(s, answer=''):\n",
    "    if len(s) == 0:\n",
    "        print(answer)\n",
    "        return\n",
    "\n",
    "    for i in range(len(s)):\n",
    "        char = s[i]\n",
    "        left = s[:i]\n",
    "        right = s[i+1:]\n",
    "        rest = left + right\n",
    "        permute(rest, answer + char)\n",
    "\n",
    "permute(\"123\")\n"
   ]
  },
  {
   "cell_type": "code",
   "execution_count": null,
   "id": "3d076a6b",
   "metadata": {},
   "outputs": [],
   "source": []
  }
 ],
 "metadata": {
  "kernelspec": {
   "display_name": "genai",
   "language": "python",
   "name": "python3"
  },
  "language_info": {
   "codemirror_mode": {
    "name": "ipython",
    "version": 3
   },
   "file_extension": ".py",
   "mimetype": "text/x-python",
   "name": "python",
   "nbconvert_exporter": "python",
   "pygments_lexer": "ipython3",
   "version": "3.12.8"
  }
 },
 "nbformat": 4,
 "nbformat_minor": 5
}
