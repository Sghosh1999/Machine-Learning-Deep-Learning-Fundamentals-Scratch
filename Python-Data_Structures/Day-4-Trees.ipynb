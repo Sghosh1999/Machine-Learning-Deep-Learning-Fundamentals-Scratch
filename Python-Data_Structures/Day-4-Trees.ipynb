{
 "cells": [
  {
   "cell_type": "markdown",
   "id": "f560157b",
   "metadata": {},
   "source": [
    "The key differences between a **Binary Tree** and a **Binary Search Tree (BST)** are as follows:\n",
    "\n",
    "### 1. **Definition**\n",
    "- **Binary Tree**: A tree data structure where each node can have at most two children (left and right). There are no specific rules for the arrangement of nodes.\n",
    "- **Binary Search Tree (BST)**: A special type of binary tree where the nodes are arranged in a specific order:\n",
    "  - The value of the left child is **less than** the value of the parent node.\n",
    "  - The value of the right child is **greater than** the value of the parent node.\n",
    "  - This property applies recursively to all subtrees.\n",
    "\n",
    "---\n",
    "\n",
    "### 2. **Structure**\n",
    "- **Binary Tree**: No constraints on the values of nodes. It can be any arbitrary structure.\n",
    "- **Binary Search Tree**: The structure is constrained by the BST property, which ensures sorted order for efficient searching.\n",
    "\n",
    "---\n",
    "\n",
    "### 3. **Use Case**\n",
    "- **Binary Tree**: Used for general-purpose hierarchical data representation (e.g., expression trees, decision trees, etc.).\n",
    "- **Binary Search Tree**: Used for efficient searching, insertion, and deletion operations due to its sorted structure.\n",
    "\n",
    "---\n",
    "\n",
    "### 4. **Operations**\n",
    "- **Binary Tree**: Traversal (Inorder, Preorder, Postorder) is the primary operation.\n",
    "- **Binary Search Tree**: In addition to traversal, it supports efficient searching, insertion, and deletion with a time complexity of:\n",
    "  - **O(h)**, where `h` is the height of the tree (logarithmic for balanced trees, linear for skewed trees).\n",
    "\n",
    "---\n",
    "\n",
    "### 5. **Example**\n",
    "- **Binary Tree**:\n",
    "  ```\n",
    "      1\n",
    "     / \\\n",
    "    2   3\n",
    "  ```\n",
    "  No specific order is maintained.\n",
    "\n",
    "- **Binary Search Tree**:\n",
    "  ```\n",
    "      4\n",
    "     / \\\n",
    "    2   6\n",
    "   / \\\n",
    "  1   3\n",
    "  ```\n",
    "  Follows the BST property: Left < Root < Right.\n",
    "\n",
    "---\n",
    "\n",
    "### Summary Table:\n",
    "\n",
    "| Feature                | Binary Tree                     | Binary Search Tree (BST)         |\n",
    "|------------------------|----------------------------------|----------------------------------|\n",
    "| Node Arrangement       | No specific order               | Left < Root < Right             |\n",
    "| Use Case               | General-purpose representation  | Efficient searching/insertion   |\n",
    "| Search Time Complexity | O(n)                            | O(h) (log n for balanced trees) |\n",
    "| Example Structure      | Arbitrary                       | Sorted                          |"
   ]
  },
  {
   "cell_type": "code",
   "execution_count": 16,
   "id": "29848dfe",
   "metadata": {},
   "outputs": [
    {
     "name": "stdout",
     "output_type": "stream",
     "text": [
      "Inorder Traversal (Sorted Order for BST):\n",
      "1 2 3 4 6 \n",
      "Preorder Traversal:\n",
      "4 2 1 3 6 \n",
      "Postorder Traversal:\n",
      "1 3 2 6 4 "
     ]
    }
   ],
   "source": [
    "class Node:\n",
    "    def __init__(self,data):\n",
    "        self.data = data\n",
    "        self.left = None\n",
    "        self.right = None\n",
    "    \n",
    "\n",
    "def inorder(root):\n",
    "    if root:\n",
    "        inorder(root.left)\n",
    "        print(root.data, end=' ')\n",
    "        inorder(root.right)\n",
    "\n",
    "def preorder(root):\n",
    "    if root:\n",
    "        print(root.data, end=' ')\n",
    "        preorder(root.left)\n",
    "        preorder(root.right)\n",
    "\n",
    "def postorder(root):\n",
    "    if root:\n",
    "        postorder(root.left)\n",
    "        postorder(root.right)\n",
    "        print(root.data, end=' ')\n",
    "\n",
    "\n",
    "root = Node(4)\n",
    "root.left = Node(2)\n",
    "root.right = Node(6)\n",
    "root.left.left = Node(1)\n",
    "root.left.right = Node(3)\n",
    "\n",
    "print(\"Inorder Traversal (Sorted Order for BST):\")\n",
    "inorder(root)\n",
    "print(\"\\nPreorder Traversal:\")\n",
    "preorder(root)\n",
    "print(\"\\nPostorder Traversal:\")\n",
    "postorder(root)"
   ]
  },
  {
   "cell_type": "markdown",
   "id": "a01a7be5",
   "metadata": {},
   "source": [
    "          1\n",
    "          / \\\n",
    "        2   3\n",
    "        / \\\n",
    "      4   5\n",
    "\n",
    "- **Initial `queue`:** `[1]`\n",
    "  - `level_size = 1` (1 node at level 0)\n",
    "  - Process node `1`, add its children (`2`, `3`) to the `queue`.\n",
    "  - `result = [[1]]`\n",
    "\n",
    "- **Next `queue`:** `[2, 3]`\n",
    "  - `level_size = 2` (2 nodes at level 1)\n",
    "  - Process nodes `2` and `3`, add their children (`4`, `5`) to the `queue`.\n",
    "  - `result = [[1], [2, 3]]`\n",
    "\n",
    "- **Next `queue`:** `[4, 5]`\n",
    "  - `level_size = 2` (2 nodes at level 2)\n",
    "  - Process nodes `4` and `5` (no children to add).\n",
    "  - `result = [[1], [2, 3], [4, 5]]`\n"
   ]
  },
  {
   "cell_type": "code",
   "execution_count": 24,
   "id": "39a6cc48",
   "metadata": {},
   "outputs": [],
   "source": [
    "from collections import deque\n",
    "\n",
    "def level_order(root):\n",
    "    if not root:\n",
    "        return []\n",
    "    \n",
    "    result = []\n",
    "    queue = deque([root])\n",
    "    \n",
    "    while queue:\n",
    "        level = []\n",
    "        level_size = len(queue)\n",
    "        \n",
    "        for _ in range(level_size):\n",
    "            current_node = queue.popleft()\n",
    "            level.append(current_node.data)\n",
    "            \n",
    "            if current_node.left:\n",
    "                queue.append(current_node.left)\n",
    "            if current_node.right:\n",
    "                queue.append(current_node.right)\n",
    "                \n",
    "        result.append(level)\n",
    "        \n",
    "    return result\n",
    "\n"
   ]
  },
  {
   "cell_type": "code",
   "execution_count": 25,
   "id": "05a12b47",
   "metadata": {},
   "outputs": [
    {
     "name": "stdout",
     "output_type": "stream",
     "text": [
      "\n",
      "Level Order Traversal:\n"
     ]
    },
    {
     "data": {
      "text/plain": [
       "[[4], [2, 6], [1, 3]]"
      ]
     },
     "execution_count": 25,
     "metadata": {},
     "output_type": "execute_result"
    }
   ],
   "source": [
    "print(\"\\nLevel Order Traversal:\")\n",
    "result = level_order(root)\n",
    "result"
   ]
  },
  {
   "cell_type": "code",
   "execution_count": null,
   "id": "dc56c709",
   "metadata": {},
   "outputs": [],
   "source": []
  },
  {
   "cell_type": "markdown",
   "id": "ceebbde2",
   "metadata": {},
   "source": []
  }
 ],
 "metadata": {
  "kernelspec": {
   "display_name": "genai",
   "language": "python",
   "name": "python3"
  },
  "language_info": {
   "codemirror_mode": {
    "name": "ipython",
    "version": 3
   },
   "file_extension": ".py",
   "mimetype": "text/x-python",
   "name": "python",
   "nbconvert_exporter": "python",
   "pygments_lexer": "ipython3",
   "version": "3.12.8"
  }
 },
 "nbformat": 4,
 "nbformat_minor": 5
}
