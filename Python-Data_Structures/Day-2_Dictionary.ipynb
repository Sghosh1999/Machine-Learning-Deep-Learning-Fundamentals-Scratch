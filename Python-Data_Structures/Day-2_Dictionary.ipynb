{
 "cells": [
  {
   "cell_type": "markdown",
   "id": "73daedd4",
   "metadata": {},
   "source": [
    "## Python Dictionary"
   ]
  },
  {
   "cell_type": "code",
   "execution_count": 2,
   "id": "1ffae629",
   "metadata": {},
   "outputs": [
    {
     "name": "stdout",
     "output_type": "stream",
     "text": [
      "Element counts:\n",
      "1: 2\n",
      "2: 3\n",
      "3: 2\n",
      "4: 2\n",
      "5: 1\n",
      "6: 1\n",
      "7: 1\n",
      "8: 1\n",
      "9: 1\n",
      "10: 1\n"
     ]
    }
   ],
   "source": [
    "from collections import defaultdict\n",
    "\n",
    "nums = [1,2,3,4,2,1,2,3,4,5,6,7,8,9,10]\n",
    "\n",
    "element_map = defaultdict(int)\n",
    "for num in nums:\n",
    "    element_map[num] +=1\n",
    "\n",
    "print(\"Element counts:\")\n",
    "for num, count in element_map.items():\n",
    "    print(f\"{num}: {count}\")"
   ]
  },
  {
   "cell_type": "markdown",
   "id": "aa056de0",
   "metadata": {},
   "source": [
    "## Sort the Dictionary"
   ]
  },
  {
   "cell_type": "code",
   "execution_count": 7,
   "id": "bead6821",
   "metadata": {},
   "outputs": [
    {
     "name": "stdout",
     "output_type": "stream",
     "text": [
      "Sorted the Dictionary Key Wise : {1: 2, 2: 3, 3: 2, 4: 2, 5: 1, 6: 1, 7: 1, 8: 1, 9: 1, 10: 1}\n",
      "Sorted the Dictionary Value Wise : {2: 3, 1: 2, 3: 2, 4: 2, 5: 1, 6: 1, 7: 1, 8: 1, 9: 1, 10: 1}\n"
     ]
    }
   ],
   "source": [
    "## Sort the dictionary based on keys\n",
    "sorted_element_map = dict(sorted(element_map.items(), key=lambda x: x[0]))\n",
    "print(f\"Sorted the Dictionary Key Wise : {sorted_element_map}\")\n",
    "\n",
    "sorted_element_map_val = dict(sorted(element_map.items(), key=lambda x: x[1], reverse=True))\n",
    "print(f\"Sorted the Dictionary Value Wise : {sorted_element_map_val}\")"
   ]
  },
  {
   "cell_type": "code",
   "execution_count": null,
   "id": "25bcadea",
   "metadata": {},
   "outputs": [],
   "source": []
  }
 ],
 "metadata": {
  "kernelspec": {
   "display_name": "genai",
   "language": "python",
   "name": "python3"
  },
  "language_info": {
   "codemirror_mode": {
    "name": "ipython",
    "version": 3
   },
   "file_extension": ".py",
   "mimetype": "text/x-python",
   "name": "python",
   "nbconvert_exporter": "python",
   "pygments_lexer": "ipython3",
   "version": "3.12.8"
  }
 },
 "nbformat": 4,
 "nbformat_minor": 5
}
