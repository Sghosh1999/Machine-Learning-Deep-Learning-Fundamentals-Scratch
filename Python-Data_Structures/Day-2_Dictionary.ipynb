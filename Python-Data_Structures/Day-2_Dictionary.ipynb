{
 "cells": [
  {
   "cell_type": "markdown",
   "id": "73daedd4",
   "metadata": {},
   "source": [
    "## Python Dictionary"
   ]
  },
  {
   "cell_type": "code",
   "execution_count": 2,
   "id": "1ffae629",
   "metadata": {},
   "outputs": [
    {
     "name": "stdout",
     "output_type": "stream",
     "text": [
      "Element counts:\n",
      "1: 2\n",
      "2: 3\n",
      "3: 2\n",
      "4: 2\n",
      "5: 1\n",
      "6: 1\n",
      "7: 1\n",
      "8: 1\n",
      "9: 1\n",
      "10: 1\n"
     ]
    }
   ],
   "source": [
    "from collections import defaultdict\n",
    "\n",
    "nums = [1,2,3,4,2,1,2,3,4,5,6,7,8,9,10]\n",
    "\n",
    "element_map = defaultdict(int)\n",
    "for num in nums:\n",
    "    element_map[num] +=1\n",
    "\n",
    "print(\"Element counts:\")\n",
    "for num, count in element_map.items():\n",
    "    print(f\"{num}: {count}\")"
   ]
  },
  {
   "cell_type": "markdown",
   "id": "aa056de0",
   "metadata": {},
   "source": [
    "## Sort the Dictionary"
   ]
  },
  {
   "cell_type": "code",
   "execution_count": 7,
   "id": "bead6821",
   "metadata": {},
   "outputs": [
    {
     "name": "stdout",
     "output_type": "stream",
     "text": [
      "Sorted the Dictionary Key Wise : {1: 2, 2: 3, 3: 2, 4: 2, 5: 1, 6: 1, 7: 1, 8: 1, 9: 1, 10: 1}\n",
      "Sorted the Dictionary Value Wise : {2: 3, 1: 2, 3: 2, 4: 2, 5: 1, 6: 1, 7: 1, 8: 1, 9: 1, 10: 1}\n"
     ]
    }
   ],
   "source": [
    "## Sort the dictionary based on keys\n",
    "sorted_element_map = dict(sorted(element_map.items(), key=lambda x: x[0]))\n",
    "print(f\"Sorted the Dictionary Key Wise : {sorted_element_map}\")\n",
    "\n",
    "sorted_element_map_val = dict(sorted(element_map.items(), key=lambda x: x[1], reverse=True))\n",
    "print(f\"Sorted the Dictionary Value Wise : {sorted_element_map_val}\")"
   ]
  },
  {
   "cell_type": "markdown",
   "id": "93af97ba",
   "metadata": {},
   "source": [
    "## Nested Dictioanries"
   ]
  },
  {
   "cell_type": "code",
   "execution_count": 1,
   "id": "25bcadea",
   "metadata": {},
   "outputs": [],
   "source": [
    "\n",
    "# Example of nested dictionaries and updating values\n",
    "nested_data = {\n",
    "    'department1': {\n",
    "        'team1': {\n",
    "            'employee1': {\n",
    "                'name': 'John',\n",
    "                'age': 30,\n",
    "                'skills': {\n",
    "                    'programming': ['Python', 'Java'],\n",
    "                    'languages': ['English', 'Spanish']\n",
    "                }\n",
    "            },\n",
    "            'employee2': {\n",
    "                'name': 'Alice',\n",
    "                'age': 25,\n",
    "                'skills': {\n",
    "                    'programming': ['JavaScript', 'Python'],\n",
    "                    'languages': ['English', 'French']\n",
    "                }\n",
    "            }\n",
    "        },\n",
    "        'team2': {\n",
    "            'employee3': {\n",
    "                'name': 'Bob',\n",
    "                'age': 35,\n",
    "                'skills': {\n",
    "                    'programming': ['C++', 'Ruby'],\n",
    "                    'languages': ['English', 'German']\n",
    "                }\n",
    "            }\n",
    "        }\n",
    "    },\n",
    "    'department2': {\n",
    "        'team3': {\n",
    "            'employee4': {\n",
    "                'name': 'Emma',\n",
    "                'age': 28,\n",
    "                'skills': {\n",
    "                    'programming': ['PHP', 'SQL'],\n",
    "                    'languages': ['English', 'Italian']\n",
    "                }\n",
    "            }\n",
    "        }\n",
    "    }\n",
    "}"
   ]
  },
  {
   "cell_type": "code",
   "execution_count": 2,
   "id": "d0921269",
   "metadata": {},
   "outputs": [],
   "source": [
    "# Method 1: Using nested loops to update values\n",
    "# Let's update all employees' ages by adding 1 year\n",
    "for dept in nested_data.values():\n",
    "    for team in dept.values():\n",
    "        for employee in team.values():\n",
    "            employee['age'] += 1"
   ]
  },
  {
   "cell_type": "code",
   "execution_count": 3,
   "id": "bd43bf56",
   "metadata": {},
   "outputs": [
    {
     "data": {
      "text/plain": [
       "{'department1': {'team1': {'employee1': {'name': 'John',\n",
       "    'age': 31,\n",
       "    'skills': {'programming': ['Python', 'Java'],\n",
       "     'languages': ['English', 'Spanish']}},\n",
       "   'employee2': {'name': 'Alice',\n",
       "    'age': 26,\n",
       "    'skills': {'programming': ['JavaScript', 'Python'],\n",
       "     'languages': ['English', 'French']}}},\n",
       "  'team2': {'employee3': {'name': 'Bob',\n",
       "    'age': 36,\n",
       "    'skills': {'programming': ['C++', 'Ruby'],\n",
       "     'languages': ['English', 'German']}}}},\n",
       " 'department2': {'team3': {'employee4': {'name': 'Emma',\n",
       "    'age': 29,\n",
       "    'skills': {'programming': ['PHP', 'SQL'],\n",
       "     'languages': ['English', 'Italian']}}}}}"
      ]
     },
     "execution_count": 3,
     "metadata": {},
     "output_type": "execute_result"
    }
   ],
   "source": [
    "nested_data"
   ]
  },
  {
   "cell_type": "markdown",
   "id": "e8ffce49",
   "metadata": {},
   "source": [
    "### Recursive Way to update a Key in Dictionary"
   ]
  },
  {
   "cell_type": "code",
   "execution_count": 5,
   "id": "a83a5d2e",
   "metadata": {},
   "outputs": [
    {
     "name": "stdout",
     "output_type": "stream",
     "text": [
      "Updated Nested Dictionary:\n"
     ]
    },
    {
     "data": {
      "text/plain": [
       "{'department1': {'team1': {'employee1': {'name': 'John',\n",
       "    'age': 31,\n",
       "    'skills': {'programming': ['Python', 'Java'],\n",
       "     'languages': ['English', 'Spanish', 'French']}},\n",
       "   'employee2': {'name': 'Alice',\n",
       "    'age': 26,\n",
       "    'skills': {'programming': ['JavaScript', 'Python'],\n",
       "     'languages': ['English', 'Spanish', 'French']}}},\n",
       "  'team2': {'employee3': {'name': 'Bob',\n",
       "    'age': 36,\n",
       "    'skills': {'programming': ['C++', 'Ruby'],\n",
       "     'languages': ['English', 'Spanish', 'French']}}}},\n",
       " 'department2': {'team3': {'employee4': {'name': 'Emma',\n",
       "    'age': 29,\n",
       "    'skills': {'programming': ['PHP', 'SQL'],\n",
       "     'languages': ['English', 'Spanish', 'French']}}}}}"
      ]
     },
     "execution_count": 5,
     "metadata": {},
     "output_type": "execute_result"
    }
   ],
   "source": [
    "# Method 2: Using a recursive function to update specific keys\n",
    "def update_nested_dict(dictionary, key_to_update, new_value):\n",
    "    for key, value in dictionary.items():\n",
    "        if key == key_to_update:\n",
    "            dictionary[key] = new_value\n",
    "        elif isinstance(value, dict):\n",
    "            update_nested_dict(value, key_to_update, new_value)\n",
    "\n",
    "            \n",
    "# Call the recursive function to update skills\n",
    "update_nested_dict(nested_data,'languages', ['English', 'Spanish', 'French'])\n",
    "print(\"Updated Nested Dictionary:\")\n",
    "nested_data"
   ]
  },
  {
   "cell_type": "code",
   "execution_count": 8,
   "id": "da60c7e0",
   "metadata": {},
   "outputs": [
    {
     "name": "stdout",
     "output_type": "stream",
     "text": [
      "Updated Nested Dictionary:\n"
     ]
    },
    {
     "data": {
      "text/plain": [
       "{'department1': {'team1': {'employee1': {'name': 'John',\n",
       "    'age': 36,\n",
       "    'skills': {'programming': ['Python', 'Java'],\n",
       "     'languages': ['English', 'Spanish', 'French']}},\n",
       "   'employee2': {'name': 'Alice',\n",
       "    'age': 31,\n",
       "    'skills': {'programming': ['JavaScript', 'Python'],\n",
       "     'languages': ['English', 'Spanish', 'French']}}},\n",
       "  'team2': {'employee3': {'name': 'Bob',\n",
       "    'age': 41,\n",
       "    'skills': {'programming': ['C++', 'Ruby'],\n",
       "     'languages': ['English', 'Spanish', 'French']}}}},\n",
       " 'department2': {'team3': {'employee4': {'name': 'Emma',\n",
       "    'age': 34,\n",
       "    'skills': {'programming': ['PHP', 'SQL'],\n",
       "     'languages': ['English', 'Spanish', 'French']}}}}}"
      ]
     },
     "execution_count": 8,
     "metadata": {},
     "output_type": "execute_result"
    }
   ],
   "source": [
    "def update_nested_age(dictionary, key_to_update):\n",
    "    for key, value in dictionary.items():\n",
    "        if key == key_to_update:\n",
    "            dictionary[key] = value + 5  # Add 5 to the current age value\n",
    "        elif isinstance(value, dict):\n",
    "            update_nested_age(value, key_to_update)\n",
    "    return dictionary\n",
    "\n",
    "# Call the recursive function to update age\n",
    "update_nested_age(nested_data, 'age')\n",
    "print(\"Updated Nested Dictionary:\")\n",
    "nested_data"
   ]
  },
  {
   "cell_type": "code",
   "execution_count": null,
   "id": "336909c6",
   "metadata": {},
   "outputs": [],
   "source": []
  }
 ],
 "metadata": {
  "kernelspec": {
   "display_name": "genai",
   "language": "python",
   "name": "python3"
  },
  "language_info": {
   "codemirror_mode": {
    "name": "ipython",
    "version": 3
   },
   "file_extension": ".py",
   "mimetype": "text/x-python",
   "name": "python",
   "nbconvert_exporter": "python",
   "pygments_lexer": "ipython3",
   "version": "3.12.8"
  }
 },
 "nbformat": 4,
 "nbformat_minor": 5
}
