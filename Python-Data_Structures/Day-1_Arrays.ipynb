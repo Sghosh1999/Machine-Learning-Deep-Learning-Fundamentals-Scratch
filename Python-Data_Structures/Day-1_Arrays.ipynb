{
 "cells": [
  {
   "cell_type": "markdown",
   "id": "4abd68be",
   "metadata": {
    "vscode": {
     "languageId": "markdown"
    }
   },
   "source": [
    "## Introduction to Python Lists and Arrays\n",
    "\n",
    "In this section, we will explore the fundamental operations and concepts related to Python lists and arrays. This includes:\n",
    "\n",
    "- Basic operations on lists\n",
    "- Working with 1D and 2D arrays\n",
    "- Array creation methods\n",
    "- List comprehensions\n",
    "- Using map and filter functions\n",
    "- Understanding time complexity\n",
    "- Manipulating arrays\n",
    "- Slicing operations\n",
    "- Performing matrix operations\n",
    "\n",
    "\n",
    "# Common operations and their time complexity\n",
    "\n",
    "\n",
    "| Operation           | Time Complexity |\n",
    "|--------------------| ----------------|\n",
    "| Append             | O(1)            |\n",
    "| Insert             | O(n)            |\n",
    "| Delete             | O(n)            |\n",
    "| Access by index    | O(1)            |\n",
    "| Search             | O(n)            |\n",
    "| Pop last element   | O(1)            |\n",
    "| Pop arbitrary element | O(n)         |\n",
    "\n"
   ]
  },
  {
   "cell_type": "markdown",
   "id": "f086b0b7",
   "metadata": {},
   "source": [
    "## 1. Basic List Operations"
   ]
  },
  {
   "cell_type": "code",
   "execution_count": 5,
   "id": "76a20210",
   "metadata": {},
   "outputs": [
    {
     "name": "stdout",
     "output_type": "stream",
     "text": [
      "Original list: [1, 2, 3, 4, 5]\n",
      "After append(6): [1, 2, 3, 4, 5, 6]\n",
      "After insert(0, 12): [12, 1, 2, 3, 4, 5, 6]\n",
      "After pop(): [12, 1, 2, 3, 4, 5]\n",
      "After remove(3): [12, 1, 2, 4, 5]\n",
      "After del my_list[0]: [1, 2, 4, 5]\n",
      "Length: 4\n",
      "Maximum value: 5\n",
      "Minimum value: 1\n",
      "Sum of elements: 12\n"
     ]
    }
   ],
   "source": [
    "\n",
    "# List creation\n",
    "my_list = [1, 2, 3, 4, 5]\n",
    "print(\"Original list:\", my_list)\n",
    "\n",
    "# Adding elements \n",
    "my_list.append(6)        # Add at end\n",
    "print(\"After append(6):\", my_list)\n",
    "\n",
    "my_list.insert(0, 12)    # Add at specific index\n",
    "print(\"After insert(0, 12):\", my_list)\n",
    "\n",
    "# Removing elements\n",
    "my_list.pop()           # Remove last element\n",
    "print(\"After pop():\", my_list)\n",
    "\n",
    "my_list.remove(3)       # Remove specific value\n",
    "print(\"After remove(3):\", my_list)\n",
    "\n",
    "del my_list[0]          # Remove at index\n",
    "print(\"After del my_list[0]:\", my_list)\n",
    "\n",
    "# Basic operations\n",
    "length = len(my_list)   # Length of list\n",
    "print(\"Length:\", length)\n",
    "\n",
    "max_val = max(my_list)  # Maximum value\n",
    "print(\"Maximum value:\", max_val)\n",
    "\n",
    "min_val = min(my_list)  # Minimum value\n",
    "print(\"Minimum value:\", min_val)\n",
    "\n",
    "sum_val = sum(my_list)  # Sum of elements\n",
    "print(\"Sum of elements:\", sum_val)"
   ]
  },
  {
   "cell_type": "markdown",
   "id": "3f7d665e",
   "metadata": {},
   "source": [
    "### 2. 1D Arrays and Lists"
   ]
  },
  {
   "cell_type": "code",
   "execution_count": 6,
   "id": "25af9c9b",
   "metadata": {},
   "outputs": [
    {
     "name": "stdout",
     "output_type": "stream",
     "text": [
      "Array Sum: 15 | Array Max: 5 | Array Min: 1 | Array Mean: 3.0\n"
     ]
    }
   ],
   "source": [
    "import numpy as np\n",
    "\n",
    "list_arr = [1, 2, 3, 4, 5]\n",
    "np_array = np.array(list_arr)\n",
    "\n",
    "##Array Operations\n",
    "arr_sum = np.sum(np_array)  # Sum of elements\n",
    "arr_max = np.max(np_array)  # Maximum value\n",
    "arr_min = np.min(np_array)  # Minimum value\n",
    "arr_mean = np.mean(np_array)  # Mean of elements\n",
    "\n",
    "print(f\"Array Sum: {arr_sum} | Array Max: {arr_max} | Array Min: {arr_min} | Array Mean: {arr_mean}\")"
   ]
  },
  {
   "cell_type": "code",
   "execution_count": null,
   "id": "c652002e",
   "metadata": {},
   "outputs": [
    {
     "name": "stdout",
     "output_type": "stream",
     "text": [
      "Array with range of values: [ 0  2  4  6  8 10 12 14 16 18]\n",
      "Array with specified number of values: [ 0.   2.5  5.   7.5 10. ]\n"
     ]
    }
   ],
   "source": [
    "## Creating of Numpy Array\n",
    "array1 = np.arange(0,20,2)  # Create an array with a range of values\n",
    "print(\"Array with range of values:\", array1)\n",
    "\n",
    "array2 = np.linspace(0, 10, 5)  # Create an array with a specified number of values\n",
    "print(\"Array with specified number of values:\", array2)"
   ]
  },
  {
   "cell_type": "markdown",
   "id": "75eac8c5",
   "metadata": {},
   "source": [
    "### 2.1 List Comprehension"
   ]
  },
  {
   "cell_type": "code",
   "execution_count": null,
   "id": "a92f04a8",
   "metadata": {},
   "outputs": [
    {
     "name": "stdout",
     "output_type": "stream",
     "text": [
      "[0, 1, 4, 9, 16, 25, 36, 49, 64, 81]\n",
      "Even numbers from samples: [0, 4, 16, 36, 64]\n",
      "Nested List: [[0, 1], [1, 2], [2, 3]]\n"
     ]
    }
   ],
   "source": [
    "samples = [x**2 for x in range(10)]\n",
    "print(samples)\n",
    "\n",
    "##Conditional List Comprehension\n",
    "even_numbers = [x for x in samples if x%2 == 0]\n",
    "print(\"Even numbers from samples:\", even_numbers)\n",
    "\n",
    "##Nested List Comprehension\n",
    "nested_list = [[i+j for i in range(2)] for j in range(3)] ##Inner loop -> number of columns, Outer loop -> number of rows\n",
    "print(\"Nested List:\", nested_list)"
   ]
  },
  {
   "cell_type": "markdown",
   "id": "97c26353",
   "metadata": {},
   "source": [
    "### 2.2 Maps and Filters"
   ]
  },
  {
   "cell_type": "code",
   "execution_count": 16,
   "id": "367743fc",
   "metadata": {},
   "outputs": [
    {
     "name": "stdout",
     "output_type": "stream",
     "text": [
      "[1, 4, 9, 16, 25]\n",
      "[2, 4]\n"
     ]
    }
   ],
   "source": [
    "numbers = [1, 2, 3, 4, 5]\n",
    "squared = map(lambda x: x**2, numbers)\n",
    "print(list(squared))\n",
    "\n",
    "\n",
    "# Using filter to get even numbers\n",
    "even_numbers = filter(lambda x: x % 2 == 0, numbers)\n",
    "print(list(even_numbers))"
   ]
  },
  {
   "cell_type": "markdown",
   "id": "939f73d3",
   "metadata": {},
   "source": [
    "### 2.3 Array Manipulation"
   ]
  },
  {
   "cell_type": "code",
   "execution_count": 17,
   "id": "4873eca3",
   "metadata": {},
   "outputs": [
    {
     "name": "stdout",
     "output_type": "stream",
     "text": [
      " Reverse of [11, 12, 13, 14, 15] is [15, 14, 13, 12, 11]\n",
      " Rotate left of [11, 12, 13, 14, 15] is [13, 14, 15, 11, 12]\n",
      " Rotate right of [11, 12, 13, 14, 15] is [14, 15, 11, 12, 13]\n"
     ]
    }
   ],
   "source": [
    "## Array Manipulation\n",
    "\n",
    "def reverse_array(arr):\n",
    "    return arr[::-1]\n",
    "\n",
    "## Rotate a array by left\n",
    "def rotate_left(arr, k):\n",
    "    k = k % len(arr)\n",
    "    return arr[k:] + arr[:k]\n",
    "\n",
    "def rotate_right(arr, k):\n",
    "    k = k % len(arr)\n",
    "    return arr[-k:] + arr[:-k]\n",
    "\n",
    "\n",
    "arr = [11, 12, 13, 14, 15]\n",
    "print(f\" Reverse of {arr} is {reverse_array(arr)}\")\n",
    "print(f\" Rotate left of {arr} is {rotate_left(arr, 2)}\")\n",
    "print(f\" Rotate right of {arr} is {rotate_right(arr, 2)}\")"
   ]
  },
  {
   "cell_type": "markdown",
   "id": "e18b4976",
   "metadata": {},
   "source": [
    "### 3. 2D Arrays (Matrices)"
   ]
  },
  {
   "cell_type": "code",
   "execution_count": 7,
   "id": "e3c613d6",
   "metadata": {},
   "outputs": [
    {
     "name": "stdout",
     "output_type": "stream",
     "text": [
      "Matrix Rows: 3 | Matrix Columns: 3\n"
     ]
    }
   ],
   "source": [
    "## Creating a 2D Matrix\n",
    "matrix = [[1,2,3],[4,5,6],[7,8,9]]\n",
    "\n",
    "rows, cols = len(matrix), len(matrix[0])\n",
    "print(f\"Matrix Rows: {rows} | Matrix Columns: {cols}\")"
   ]
  },
  {
   "cell_type": "markdown",
   "id": "97d14ca9",
   "metadata": {},
   "source": [
    "### 3.1 Matrix Multiplication"
   ]
  },
  {
   "cell_type": "code",
   "execution_count": null,
   "id": "95b5c723",
   "metadata": {},
   "outputs": [
    {
     "name": "stdout",
     "output_type": "stream",
     "text": [
      "[[58, 64], [139, 154]]\n"
     ]
    }
   ],
   "source": [
    "def multiply_matrix(matrix1, matrix2):\n",
    "    \n",
    "    rows_A, cols_A = len(matrix1), len(matrix1[0])\n",
    "    rows_B, cols_B = len(matrix2), len(matrix2[0])\n",
    "\n",
    "    result_matrix = [[0 for _ in range(cols_B)] for _ in range(rows_A)]\n",
    "\n",
    "    if rows_A != cols_B:\n",
    "        raise ValueError(\"Number of columns in A must be equal to number of rows in B\")\n",
    "    \n",
    "    for i in range(rows_A):\n",
    "        for j in range(cols_B):\n",
    "            for k in range(cols_A):\n",
    "                result_matrix[i][j] += matrix1[i][k] * matrix2[k][j]\n",
    "    return result_matrix\n",
    "\n",
    "matrix1 = [[1, 2, 3], \n",
    "           [4, 5, 6]] ## 2x3 matrix\n",
    "\n",
    "matrix2 = [[7, 8], \n",
    "           [9, 10], \n",
    "           [11, 12]] ## 3x2 matrix\n",
    "\n",
    "# Resultant matrix will be 2x2\n",
    "result = multiply_matrix(matrix1, matrix2)\n",
    "print(result)\n",
    "\n"
   ]
  },
  {
   "cell_type": "markdown",
   "id": "5bf67221",
   "metadata": {},
   "source": [
    "### 3.2 Rotate a Matrix"
   ]
  },
  {
   "cell_type": "code",
   "execution_count": 22,
   "id": "9971937c",
   "metadata": {},
   "outputs": [],
   "source": [
    "matrix1 = [[1,2,3],\n",
    "           [4,5,6], \n",
    "           [7,8,9]] ## 3x3 matrix\n",
    "\n",
    "def rotate_matrix_90_degrees(matrix):\n",
    "    rows, cols = len(matrix), len(matrix[0])\n",
    "    rotated_matrix = [[0 for _ in range(cols)] for _ in range(rows)]\n",
    "\n",
    "    for i in range(rows):\n",
    "        for j in range(cols):\n",
    "            rotated_matrix[j][rows - 1 - i] = matrix[i][j]\n",
    "\n",
    "    return rotated_matrix"
   ]
  },
  {
   "cell_type": "code",
   "execution_count": 23,
   "id": "bc50bab3",
   "metadata": {},
   "outputs": [
    {
     "name": "stdout",
     "output_type": "stream",
     "text": [
      "[[7, 4, 1], [8, 5, 2], [9, 6, 3]]\n"
     ]
    }
   ],
   "source": [
    "print(rotate_matrix_90_degrees(matrix1))"
   ]
  },
  {
   "cell_type": "code",
   "execution_count": null,
   "id": "b2f07532",
   "metadata": {},
   "outputs": [],
   "source": []
  }
 ],
 "metadata": {
  "kernelspec": {
   "display_name": "Python 3 (ipykernel)",
   "language": "python",
   "name": "python3"
  },
  "language_info": {
   "codemirror_mode": {
    "name": "ipython",
    "version": 3
   },
   "file_extension": ".py",
   "mimetype": "text/x-python",
   "name": "python",
   "nbconvert_exporter": "python",
   "pygments_lexer": "ipython3",
   "version": "3.10.14"
  }
 },
 "nbformat": 4,
 "nbformat_minor": 5
}
