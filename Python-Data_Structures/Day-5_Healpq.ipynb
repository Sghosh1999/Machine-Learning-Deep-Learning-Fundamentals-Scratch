{
 "cells": [
  {
   "cell_type": "markdown",
   "id": "97198a54",
   "metadata": {},
   "source": [
    "## Heapq Tutorial in Python\n",
    "\n",
    "The `heapq` module in Python provides an implementation of the heap queue algorithm, also known as the priority queue algorithm. A heap is a binary tree where the parent node is always smaller (min-heap) or larger (max-heap) than its child nodes. The `heapq` module provides efficient methods for heap operations.\n",
    "\n",
    "---\n",
    "\n",
    "### **Key Features of `heapq`**\n",
    "1. **Min-Heap by Default**: The smallest element is always at the root.\n",
    "2. **Efficient Operations**:\n",
    "   - Insertion: O(log n)\n",
    "   - Extraction of the smallest element: O(log n)\n",
    "3. **Max-Heap**: Can be simulated by negating the values.\n",
    "\n",
    "---"
   ]
  },
  {
   "cell_type": "code",
   "execution_count": 4,
   "id": "c61ecb62",
   "metadata": {},
   "outputs": [
    {
     "name": "stdout",
     "output_type": "stream",
     "text": [
      "[1, 3, 5]\n"
     ]
    }
   ],
   "source": [
    "import heapq\n",
    "\n",
    "heap = []\n",
    "heapq.heappush(heap, 3)\n",
    "heapq.heappush(heap, 1)\n",
    "heapq.heappush(heap, 5)\n",
    "print(heap)  # Output: [1, 3, 5] (min-heap)"
   ]
  },
  {
   "cell_type": "code",
   "execution_count": 5,
   "id": "7832d004",
   "metadata": {},
   "outputs": [
    {
     "name": "stdout",
     "output_type": "stream",
     "text": [
      "1\n",
      "[3, 5]\n"
     ]
    }
   ],
   "source": [
    "#### 2. `heapq.heappop(heap)`\n",
    "# Removes and returns the smallest element from the heap.\n",
    "    \n",
    "print(heapq.heappop(heap))  # Output: 1\n",
    "print(heap)  # Output: [3, 5]"
   ]
  },
  {
   "cell_type": "markdown",
   "id": "4c225f89",
   "metadata": {},
   "source": [
    "#### 3. `heapq.heapify(iterable)`\n",
    "- Converts a list into a valid heap in-place."
   ]
  },
  {
   "cell_type": "code",
   "execution_count": 6,
   "id": "424265e9",
   "metadata": {},
   "outputs": [
    {
     "name": "stdout",
     "output_type": "stream",
     "text": [
      "[1, 3, 8, 5]\n"
     ]
    }
   ],
   "source": [
    "nums = [5, 3, 8, 1]\n",
    "heapq.heapify(nums)\n",
    "print(nums)  # Output: [1, 3, 8, 5]"
   ]
  },
  {
   "cell_type": "markdown",
   "id": "6b0f76b5",
   "metadata": {},
   "source": [
    "#### 4. `heapq.nlargest(n, iterable)`\n",
    "- Returns the `n` largest elements from the iterable."
   ]
  },
  {
   "cell_type": "code",
   "execution_count": 7,
   "id": "e274f7b3",
   "metadata": {},
   "outputs": [
    {
     "name": "stdout",
     "output_type": "stream",
     "text": [
      "[8, 5]\n"
     ]
    }
   ],
   "source": [
    "nums = [5, 3, 8, 1]\n",
    "print(heapq.nlargest(2, nums))  # Output: [8, 5]"
   ]
  },
  {
   "cell_type": "code",
   "execution_count": 8,
   "id": "54939a7f",
   "metadata": {},
   "outputs": [
    {
     "name": "stdout",
     "output_type": "stream",
     "text": [
      "[1, 3]\n"
     ]
    }
   ],
   "source": [
    "print(heapq.nsmallest(2, nums))  # Output: [1, 3]"
   ]
  },
  {
   "cell_type": "markdown",
   "id": "10681519",
   "metadata": {},
   "source": [
    "\n",
    "\n",
    "---\n",
    "\n",
    "#### **3. Find the Top `k` Most Frequent Elements**\n",
    "To find the `k` most frequent elements in a list:\n"
   ]
  },
  {
   "cell_type": "code",
   "execution_count": 14,
   "id": "882919cb",
   "metadata": {},
   "outputs": [
    {
     "name": "stdout",
     "output_type": "stream",
     "text": [
      "[1, 2]\n"
     ]
    }
   ],
   "source": [
    "from collections import Counter\n",
    "import heapq\n",
    "\n",
    "def top_k_frequent(nums, k):\n",
    "    # Count the frequency of each element\n",
    "    freq_map = Counter(nums)\n",
    "    # Use a max-heap to get the top k frequent elements\n",
    "    return heapq.nlargest(k, freq_map.keys(), key=freq_map.get)\n",
    "\n",
    "nums = [1, 1, 1, 2, 2, 3]\n",
    "k = 2\n",
    "print(top_k_frequent(nums, k))  # Output: [1, 2]"
   ]
  },
  {
   "cell_type": "code",
   "execution_count": null,
   "id": "c77b77a0",
   "metadata": {},
   "outputs": [],
   "source": []
  }
 ],
 "metadata": {
  "kernelspec": {
   "display_name": "genai",
   "language": "python",
   "name": "python3"
  },
  "language_info": {
   "codemirror_mode": {
    "name": "ipython",
    "version": 3
   },
   "file_extension": ".py",
   "mimetype": "text/x-python",
   "name": "python",
   "nbconvert_exporter": "python",
   "pygments_lexer": "ipython3",
   "version": "3.12.8"
  }
 },
 "nbformat": 4,
 "nbformat_minor": 5
}
