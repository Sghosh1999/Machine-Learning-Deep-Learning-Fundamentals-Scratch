{
 "cells": [
  {
   "cell_type": "markdown",
   "id": "df603d57",
   "metadata": {},
   "source": [
    "## OOPS Principle"
   ]
  },
  {
   "cell_type": "markdown",
   "id": "1b6197e9",
   "metadata": {},
   "source": [
    "## Pydantic Class"
   ]
  },
  {
   "cell_type": "code",
   "execution_count": 15,
   "id": "7bf84282",
   "metadata": {},
   "outputs": [
    {
     "name": "stdout",
     "output_type": "stream",
     "text": [
      "music_name='Imagine Dragons' music_artist='John Lenon' music_album='Imagine' music_length=5.5\n",
      "Imagine Dragons\n",
      "John Lenon\n",
      "5.5\n",
      "<class 'float'>\n",
      "True\n"
     ]
    }
   ],
   "source": [
    "from abc import ABC, abstractmethod\n",
    "from typing import Any, Dict, List, Optional, Tuple\n",
    "from pydantic import BaseModel, Field\n",
    "\n",
    "class Music_Schema(BaseModel):\n",
    "    music_name : str = Field(..., description=\"Name of the music\")\n",
    "    music_artist : str = Field(..., description=\"Artist of the music\")\n",
    "    music_album : str = Field(..., description=\"Album of the music\")\n",
    "    music_length: float = Field(..., description=\"Length of the music\")\n",
    "\n",
    "##Example Usage\n",
    "music_data = {\n",
    "    'music_name': 'Imagine Dragons',\n",
    "    'music_artist': 'John Lenon',\n",
    "    'music_album':'Imagine',\n",
    "    'music_length':'5.5'\n",
    "}\n",
    "music = Music_Schema(**music_data)\n",
    "print(music)\n",
    "\n",
    "print(music.music_name)\n",
    "print(music.music_artist)\n",
    "print(music.music_length)\n",
    "print(type(music.music_length))\n",
    "\n",
    "print(isinstance(music.music_length, float))\n",
    "\n",
    "\n"
   ]
  },
  {
   "cell_type": "markdown",
   "id": "0515a539",
   "metadata": {},
   "source": [
    "## Abstract Method\n",
    "\n",
    "Abstract classes in Python are classes that cannot be instantiated on their own and are meant to be subclassed. They can contain abstract methods that must be implemented by all subclasses."
   ]
  },
  {
   "cell_type": "code",
   "execution_count": 21,
   "id": "ebb4ce61",
   "metadata": {},
   "outputs": [],
   "source": [
    "from abc import ABC, abstractmethod\n",
    "\n",
    "class MusicPlayer(ABC):\n",
    "    \"\"\"Abstract base class for music players\"\"\"\n",
    "    \n",
    "    def __init__(self, name):\n",
    "        self.name = name\n",
    "    \n",
    "    @abstractmethod\n",
    "    def play(self, track):\n",
    "        \"\"\"Play a track - must be implemented by subclasses\"\"\"\n",
    "        pass\n",
    "        \n",
    "    @abstractmethod\n",
    "    def stop(self):\n",
    "        \"\"\"Stop playback - must be implemented by subclasses\"\"\"\n",
    "        pass\n",
    "        \n",
    "    \n",
    "    def get_name(self):\n",
    "        \"\"\"A concrete method that all subclasses inherit as-is\"\"\"\n",
    "        return f\"Music Player: {self.name}\"\n",
    "\n",
    "# Trying to instantiate the abstract class directly will fail\n",
    "#mp = MusicPlayer(\"Generic\")  # This would raise TypeError"
   ]
  },
  {
   "cell_type": "markdown",
   "id": "374aa177",
   "metadata": {},
   "source": [
    "Abstract methods are used in real life to define a common interface or contract that all subclasses must follow. This ensures that every subclass provides specific functionality, even if the implementation details differ. For example, in a music player application, all types of players (streaming, CD, vinyl) must be able to `play` and `stop` music, but how they do it can vary.\n",
    "\n",
    "**Why is this important?**\n",
    "- **Consistency:** Abstract methods enforce that all subclasses implement essential methods, leading to a consistent API.\n",
    "- **Reliability:** They prevent incomplete implementations, reducing runtime errors.\n",
    "- **Flexibility:** Developers can add new types of players without changing existing code, as long as they implement the required methods.\n",
    "- **Maintainability:** Code is easier to understand and maintain because the required interface is clear.\n",
    "\n",
    "In summary, abstract methods help organize code, enforce rules, and make large systems more robust and scalable.\n"
   ]
  },
  {
   "cell_type": "code",
   "execution_count": null,
   "id": "d6e3aa18",
   "metadata": {},
   "outputs": [
    {
     "name": "stdout",
     "output_type": "stream",
     "text": [
      "Streaming 'Imagine' on Spotify\n",
      "Music Player: Spotify\n",
      "Playing Abbey Road on Vinyl player Audio-Technica\n"
     ]
    }
   ],
   "source": [
    "class StreamingPlayer(MusicPlayer):\n",
    "    \"\"\"A concrete subclass of MusicPlayer for streaming services\"\"\"\n",
    "    \n",
    "    def __init__(self, name, subscription_type):\n",
    "        super().__init__(name)  # Call parent constructor\n",
    "        self.subscription_type = subscription_type\n",
    "    \n",
    "    def play(self, track):\n",
    "        return f\"Streaming '{track}' on {self.name}\"\n",
    "    \n",
    "    def stop(self):\n",
    "        return f\"Stopped streaming on {self.name}\"\n",
    "    \n",
    "    def change_subscription(self, new_type):\n",
    "        self.subscription_type = new_type\n",
    "        return f\"Changed to {new_type} subscription\"\n",
    "\n",
    "class PhysicalPlayer(MusicPlayer):\n",
    "    \"\"\"Another concrete subclass for CD/vinyl players\"\"\"\n",
    "    \n",
    "    def __init__(self, name, media_type):\n",
    "        super().__init__(name)\n",
    "        self.media_type = media_type\n",
    "    \n",
    "    def play(self, track):\n",
    "        return f\"Playing {track} on {self.media_type} player {self.name}\"\n",
    "    \n",
    "    def stop(self):\n",
    "        return f\"Stopped {self.name}\"\n",
    "    \n",
    "    def insert_media(self, media):\n",
    "        return f\"Inserted {media} into {self.name}\"\n",
    "\n",
    "# Usage example\n",
    "spotify = StreamingPlayer(\"Spotify\", \"Premium\")\n",
    "print(spotify.play(\"Imagine\"))\n",
    "print(spotify.get_name())  # Inherited method\n",
    "\n",
    "vinyl = PhysicalPlayer(\"Audio-Technica\", \"Vinyl\")\n",
    "print(vinyl.play(\"Abbey Road\"))"
   ]
  },
  {
   "cell_type": "code",
   "execution_count": null,
   "id": "4a57045a",
   "metadata": {},
   "outputs": [],
   "source": []
  }
 ],
 "metadata": {
  "kernelspec": {
   "display_name": "genai",
   "language": "python",
   "name": "python3"
  },
  "language_info": {
   "codemirror_mode": {
    "name": "ipython",
    "version": 3
   },
   "file_extension": ".py",
   "mimetype": "text/x-python",
   "name": "python",
   "nbconvert_exporter": "python",
   "pygments_lexer": "ipython3",
   "version": "3.12.8"
  }
 },
 "nbformat": 4,
 "nbformat_minor": 5
}
