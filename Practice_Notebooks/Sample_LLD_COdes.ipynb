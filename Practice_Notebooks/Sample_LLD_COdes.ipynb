{
 "cells": [
  {
   "cell_type": "markdown",
   "id": "24250fb7",
   "metadata": {},
   "source": [
    "## Todo Application Simple"
   ]
  },
  {
   "cell_type": "code",
   "execution_count": null,
   "id": "8478419d",
   "metadata": {},
   "outputs": [],
   "source": [
    "class Todo:\n",
    "    def __init__(self, task_description):\n",
    "        self.task_description = task_description\n",
    "        self.completed = False\n",
    "    def __str__(self):\n",
    "        return f\"Task: {self.task_description}, Completed: {self.completed}\"\n",
    "\n",
    "class User:\n",
    "    def __init__(self, username):\n",
    "        self.username = username\n",
    "        self.todos = []\n",
    "    \n",
    "    def add_todo(self, task_description):\n",
    "        todo = Todo(task_description)\n",
    "        self.todos.append(todo)\n",
    "        print(f\"Added todo: {todo}\")\n",
    "    \n",
    "    def complete_todo(self, task_description):\n",
    "        for todo in self.todos:\n",
    "            if todo.task_description == task_description:\n",
    "                todo.completed = True\n",
    "                print(f\"Completed todo: {todo}\")\n",
    "                return\n",
    "        print(f\"Todo not found: {task_description}\")\n",
    "    \n",
    "    def list_todos(self):\n",
    "        if not self.todos:\n",
    "            print(\"No todos found.\")\n",
    "        else:\n",
    "            for todo in self.todos:\n",
    "                print(todo)\n",
    "    \n",
    "    def __str__(self):\n",
    "        pass\n",
    "        \n"
   ]
  },
  {
   "cell_type": "code",
   "execution_count": null,
   "id": "508bbec9",
   "metadata": {},
   "outputs": [
    {
     "name": "stdout",
     "output_type": "stream",
     "text": [
      "Added todo: Task: Buy groceries, Completed: False\n",
      "Added todo: Task: Read a book, Completed: False\n",
      "Task: Buy groceries, Completed: False\n",
      "Task: Read a book, Completed: False\n",
      "Completed todo: Task: Buy groceries, Completed: True\n",
      "Task: Buy groceries, Completed: True\n",
      "Task: Read a book, Completed: False\n"
     ]
    }
   ],
   "source": [
    "# Example usage\n",
    "user = User(\"john_doe\")\n",
    "user.add_todo(\"Buy groceries\")\n",
    "user.add_todo(\"Read a book\")\n",
    "user.list_todos()\n",
    "user.complete_todo(\"Buy groceries\")\n",
    "user.list_todos()"
   ]
  },
  {
   "cell_type": "code",
   "execution_count": null,
   "id": "76ac591f",
   "metadata": {},
   "outputs": [],
   "source": []
  },
  {
   "cell_type": "code",
   "execution_count": null,
   "id": "8e162356",
   "metadata": {},
   "outputs": [],
   "source": []
  }
 ],
 "metadata": {
  "kernelspec": {
   "display_name": "genai",
   "language": "python",
   "name": "python3"
  },
  "language_info": {
   "codemirror_mode": {
    "name": "ipython",
    "version": 3
   },
   "file_extension": ".py",
   "mimetype": "text/x-python",
   "name": "python",
   "nbconvert_exporter": "python",
   "pygments_lexer": "ipython3",
   "version": "3.12.8"
  }
 },
 "nbformat": 4,
 "nbformat_minor": 5
}
