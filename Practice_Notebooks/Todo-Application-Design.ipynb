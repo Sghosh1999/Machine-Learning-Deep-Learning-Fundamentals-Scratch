{
 "cells": [
  {
   "cell_type": "code",
   "execution_count": 19,
   "id": "64f004b2-4912-4810-b9dd-94cbb33051e9",
   "metadata": {},
   "outputs": [
    {
     "name": "stdout",
     "output_type": "stream",
     "text": [
      "Username Sayan | Task Added : Learn Python\n",
      "Username Sayan | Task Added : Learn pytorch\n",
      "Pending Tasks for user Sayan are: \n",
      "\n",
      "Task Id : 1 | Desc : Learn Python\n",
      "Task Id : 2 | Desc : Learn pytorch\n",
      "Username Arka | Task Added : Learn pytorch & SQL\n",
      "Username Arka | Task Added : Learn Calculas\n",
      "Pending Tasks for user Arka are: \n",
      "\n",
      "Task Id : 1 | Desc : Learn pytorch & SQL\n",
      "Task Id : 2 | Desc : Learn Calculas\n"
     ]
    }
   ],
   "source": [
    "##Todo Application\n",
    "## task_id, task_description, is_completed/not\n",
    "import uuid\n",
    "class Todo:\n",
    "    def __init__(self,task_id,task_description):\n",
    "        self.task_id = task_id\n",
    "        self.task_description = task_description\n",
    "        \n",
    "    def __str__(self):\n",
    "        return f\"Task ID : {self.task_id} - {self.task_description}\" \n",
    "\n",
    "class TodoApplication:\n",
    "    def __init__(self):\n",
    "        self.pending_tasks = {}\n",
    "        self.completed_tasks = {}\n",
    "        self.task_counters = {}\n",
    "\n",
    "    def _init_user(self, username):\n",
    "        if username not in self.pending_tasks:\n",
    "            self.pending_tasks[username] = []\n",
    "            self.completed_tasks[username] = []\n",
    "            self.task_counters[username] = 1\n",
    "\n",
    "    def add_task(self,username, task_description):\n",
    "        self._init_user(username)\n",
    "        task_id = self.task_counters[username]\n",
    "        \n",
    "        todo = Todo(task_id,task_description)\n",
    "        self.pending_tasks[username].append(todo)\n",
    "        self.task_counters[username] +=1\n",
    "        print(f\"Username {username} | Task Added : {todo.task_description}\")\n",
    "\n",
    "    def complete_todo(self,username, task_id):\n",
    "        self._init_user(username)\n",
    "        for todo in self.pending_tasks[username]:\n",
    "            if todo.task_id == task_id:\n",
    "                self.pending_tasks[username].remove(todo)\n",
    "                self.completed_tasks[username].append(todo)\n",
    "                print(f\"Username : {username} | Task Completed : {todo.task_description} | Task Id : {todo.task_id}\")\n",
    "                return\n",
    "        print(f\"No todo found with the task id : {task_id} for user {username}\")\n",
    "\n",
    "    def list_all_tasks(self, username):\n",
    "        self._init_user(username)\n",
    "        if not self.pending_tasks[username]:\n",
    "            print(\"No Pending Tasks Found\")\n",
    "            return\n",
    "        print(f\"Pending Tasks for user {username} are: \\n\")\n",
    "        for task in self.pending_tasks[username]:\n",
    "            print(f\"Task Id : {task.task_id} | Desc : {task.task_description}\")\n",
    "    \n",
    "    def list_completed_tasks(self,username):\n",
    "        if not self.completed_tasks[username]:\n",
    "            print(\"No Tasks has Completed\")\n",
    "            return\n",
    "        print(\"Completed Task:\")\n",
    "        for task in self.completed_tasks[username]:\n",
    "            print(f\"Username : {username} | Task Id : {task.task_id} | Desc : {task.task_description}\")\n",
    "        \n",
    "\n",
    "todo = TodoApplication()\n",
    "todo.add_task(\"Sayan\",\"Learn Python\")\n",
    "todo.add_task(\"Sayan\",\"Learn pytorch\")\n",
    "\n",
    "todo.list_all_tasks(\"Sayan\")\n",
    "\n",
    "todo.add_task(\"Arka\",\"Learn pytorch & SQL\")\n",
    "todo.add_task(\"Arka\",\"Learn Calculas\")\n",
    "\n",
    "todo.list_all_tasks(\"Arka\")"
   ]
  },
  {
   "cell_type": "code",
   "execution_count": 20,
   "id": "72702135-cea5-4fcb-b6e6-17168f5defcb",
   "metadata": {},
   "outputs": [
    {
     "name": "stdout",
     "output_type": "stream",
     "text": [
      "Username : Arka | Task Completed : Learn pytorch & SQL | Task Id : 1\n"
     ]
    }
   ],
   "source": [
    "todo.complete_todo(\"Arka\",1)"
   ]
  },
  {
   "cell_type": "code",
   "execution_count": 21,
   "id": "d1317cfe-cc6b-4d5d-aaeb-e4475b1c42de",
   "metadata": {},
   "outputs": [
    {
     "name": "stdout",
     "output_type": "stream",
     "text": [
      "Pending Tasks for user Arka are: \n",
      "\n",
      "Task Id : 2 | Desc : Learn Calculas\n",
      "Completed Task:\n",
      "Username : Arka | Task Id : 1 | Desc : Learn pytorch & SQL\n"
     ]
    }
   ],
   "source": [
    "todo.list_all_tasks(\"Arka\")\n",
    "todo.list_completed_tasks(\"Arka\")"
   ]
  },
  {
   "cell_type": "code",
   "execution_count": null,
   "id": "1d1b34bf-7645-46b6-baa1-bbd132999d93",
   "metadata": {},
   "outputs": [],
   "source": []
  }
 ],
 "metadata": {
  "kernelspec": {
   "display_name": "Python 3 (ipykernel)",
   "language": "python",
   "name": "python3"
  },
  "language_info": {
   "codemirror_mode": {
    "name": "ipython",
    "version": 3
   },
   "file_extension": ".py",
   "mimetype": "text/x-python",
   "name": "python",
   "nbconvert_exporter": "python",
   "pygments_lexer": "ipython3",
   "version": "3.10.14"
  }
 },
 "nbformat": 4,
 "nbformat_minor": 5
}
