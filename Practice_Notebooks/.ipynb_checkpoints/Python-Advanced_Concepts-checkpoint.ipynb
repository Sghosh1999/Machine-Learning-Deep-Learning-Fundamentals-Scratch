{
 "cells": [
  {
   "cell_type": "markdown",
   "id": "4354ab40-73c9-42a5-8f3d-84eefef1a11c",
   "metadata": {},
   "source": [
    "## Decorators\n",
    "Iterators\n",
    "staticmethod\n",
    "abstractmethod\n",
    "lambda\n",
    "filter\n",
    "map"
   ]
  },
  {
   "cell_type": "code",
   "execution_count": null,
   "id": "d38f10d6-050d-4b54-9120-bd4c9dcb8bd6",
   "metadata": {},
   "outputs": [],
   "source": []
  }
 ],
 "metadata": {
  "kernelspec": {
   "display_name": "Python 3 (ipykernel)",
   "language": "python",
   "name": "python3"
  },
  "language_info": {
   "codemirror_mode": {
    "name": "ipython",
    "version": 3
   },
   "file_extension": ".py",
   "mimetype": "text/x-python",
   "name": "python",
   "nbconvert_exporter": "python",
   "pygments_lexer": "ipython3",
   "version": "3.10.14"
  }
 },
 "nbformat": 4,
 "nbformat_minor": 5
}
