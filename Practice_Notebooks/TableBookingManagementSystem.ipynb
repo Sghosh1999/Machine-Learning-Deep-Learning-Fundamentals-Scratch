{
 "cells": [
  {
   "cell_type": "markdown",
   "id": "c38d6803-deae-4b89-98d4-500f28ecbb20",
   "metadata": {},
   "source": [
    "## Below is for System Design\n",
    "* Table Booking Management System\n",
    "* Restaurent Booking System"
   ]
  },
  {
   "cell_type": "code",
   "execution_count": 24,
   "id": "d38f10d6-050d-4b54-9120-bd4c9dcb8bd6",
   "metadata": {},
   "outputs": [],
   "source": [
    "#Classs Table\n",
    "#Attributes\n",
    "#table_id, no_of_capacity, book_slots\n",
    "#Methods -> is_available, book_table, cancel_booking\n",
    "import uuid\n",
    "\n",
    "# Class Table  \n",
    "# Attributes: table_id, no_of_capacity, booked_slots  \n",
    "# Methods: is_available, book_table, cancel_booking  \n",
    "class Table:  \n",
    "    def __init__(self, table_id: int, no_of_capacity: int = 8):  \n",
    "        self.table_id = table_id  \n",
    "        self.no_of_capacity = no_of_capacity  \n",
    "        self.booked_slots: Dict[str, 'Booking'] = {}  \n",
    "        \n",
    "    def is_available(self, time_slot: str) -> bool:  \n",
    "        return time_slot not in self.booked_slots  \n",
    "\n",
    "    def book_table(self, time_slot: str, booking: 'Booking'):  \n",
    "        self.booked_slots[time_slot] = booking  \n",
    "\n",
    "    def cancel_slot(self, time_slot: str):  \n",
    "        if time_slot in self.booked_slots:  \n",
    "            del self.booked_slots[time_slot]  \n",
    "\n",
    "    def __str__(self):  \n",
    "        return f\"Table {self.table_id} | Booked Slots: {self.booked_slots}\"  \n",
    "\n",
    "\n",
    "#Class Booking\n",
    "#booking_id, name_of_customer, no_of_user, table:Table\n",
    "class Booking:\n",
    "    def __init__(self,name_of_customer:str, no_of_user:int,time_slot:str, table:Table):\n",
    "        self.booking_id = str(uuid.uuid4())\n",
    "        self.name_of_customer = name_of_customer\n",
    "        self.no_of_user = no_of_user\n",
    "        self.time_slot = time_slot\n",
    "        self.table = table\n",
    "    def __str__(self):\n",
    "        return f\"Booking successfully Placed : {self.booking_id} | for table ID : {self.table.table_id}\"\n",
    "\n",
    "\n",
    "#Restaruant System\n",
    "##MEthods -> Book Table, Cancel Table, list_all_available_tables, list_all_book_Tables\n",
    "class RestaurantSystem:  \n",
    "    def __init__(self, no_of_tables: int, table_capacity: int = 8):  \n",
    "        self.tables = [Table(i + 1, table_capacity) for i in range(no_of_tables)]  \n",
    "        self.bookings: Dict[str, Booking] = {}  \n",
    "\n",
    "    def book_table(self, name_of_customer: str, no_of_guests: int, time_slot: str) -> str:  \n",
    "        # Edge Case  \n",
    "        if no_of_guests > 8:  \n",
    "            print(\"Cannot Book Table for more than 8 guests.\")  \n",
    "            return \"\"  \n",
    "\n",
    "        # Check for each table if it is available  \n",
    "        for table in self.tables:  \n",
    "            if table.is_available(time_slot):  \n",
    "                booking = Booking(name_of_customer, no_of_guests, time_slot, table)  \n",
    "                table.book_table(time_slot, booking)  \n",
    "                self.bookings[booking.booking_id] = booking  \n",
    "                print(f\"Booking Successful! :{booking}\")  \n",
    "                return booking.booking_id  \n",
    "\n",
    "        print(\"No available tables for booking.\")  \n",
    "        return \"\"  \n",
    "\n",
    "    def cancel_table(self, booking_id: str):  \n",
    "        if booking_id not in self.bookings:  \n",
    "            print(\"Booking ID not available.\")  \n",
    "            return  \n",
    "\n",
    "        booking = self.bookings.pop(booking_id)  \n",
    "        booking.table.cancel_slot(booking.time_slot)  \n",
    "        print(f\"Booking {booking_id} canceled successfully for table {booking.table.table_id} at {booking.time_slot}\")  \n",
    "\n",
    "    def list_bookings(self):\n",
    "        print(\"All Bookings\")\n",
    "        for booking in self.bookings.values():\n",
    "            print(booking)"
   ]
  },
  {
   "cell_type": "code",
   "execution_count": 33,
   "id": "08842334-4ba8-41dc-8b49-8f6cab75508b",
   "metadata": {},
   "outputs": [
    {
     "name": "stdout",
     "output_type": "stream",
     "text": [
      "Booking Successful! :Booking successfully Placed : e67d6eeb-04ec-4f66-b980-b3a6ba188c33 | for table ID : 1\n",
      "Booking Successful! :Booking successfully Placed : 74839cd4-7608-4413-9611-997e7e68ea17 | for table ID : 1\n",
      "Booking Successful! :Booking successfully Placed : 9b7ced5f-a349-44ee-aede-d48f25d61d25 | for table ID : 2\n",
      "Booking 74839cd4-7608-4413-9611-997e7e68ea17 canceled successfully for table 1 at 16:00\n",
      "All Bookings\n",
      "Booking successfully Placed : e67d6eeb-04ec-4f66-b980-b3a6ba188c33 | for table ID : 1\n",
      "Booking successfully Placed : 9b7ced5f-a349-44ee-aede-d48f25d61d25 | for table ID : 2\n"
     ]
    }
   ],
   "source": [
    "if __name__ == \"__main__\":\n",
    "    restaurant = RestaurantSystem(no_of_tables=5)  \n",
    "\n",
    "    # Booking example  \n",
    "    booking_id_1 = restaurant.book_table(\"John Doe\", 4, \"19:00\")  \n",
    "    booking_id_2 = restaurant.book_table(\"John Man\", 5, \"16:00\") \n",
    "    booking_id_3 = restaurant.book_table(\"Arka Roy\", 4, \"19:00\")\n",
    "    \n",
    "\n",
    "    # Canceling example  \n",
    "    restaurant.cancel_table(booking_id_2) \n",
    "    restaurant.list_bookings()\n",
    "    "
   ]
  },
  {
   "cell_type": "code",
   "execution_count": null,
   "id": "e3a39df4-4e13-4e11-b902-d8b9c7a1b810",
   "metadata": {},
   "outputs": [],
   "source": []
  }
 ],
 "metadata": {
  "kernelspec": {
   "display_name": "Python 3 (ipykernel)",
   "language": "python",
   "name": "python3"
  },
  "language_info": {
   "codemirror_mode": {
    "name": "ipython",
    "version": 3
   },
   "file_extension": ".py",
   "mimetype": "text/x-python",
   "name": "python",
   "nbconvert_exporter": "python",
   "pygments_lexer": "ipython3",
   "version": "3.10.14"
  }
 },
 "nbformat": 4,
 "nbformat_minor": 5
}
