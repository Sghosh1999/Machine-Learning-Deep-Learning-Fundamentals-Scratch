{
 "cells": [
  {
   "cell_type": "code",
   "execution_count": 1,
   "id": "8f525e3d-c43e-4c60-a32a-59b66126d9b7",
   "metadata": {},
   "outputs": [],
   "source": [
    "#Bank Account System\n",
    "# - User (user_name, account balance)\n",
    "# class BankManagementSystem: (users)\n",
    "\n",
    "#Methods a user can perform\n",
    "# Add user\n",
    "# Add balance\n",
    "# Withdraw balance\n",
    "# Show Account Balance\n",
    "# interest calculator\n",
    "\n",
    "# Transfer Money to different user\n",
    "# Account Closure\n",
    "# Transaction History\n",
    "# User can view Interest"
   ]
  },
  {
   "cell_type": "code",
   "execution_count": 77,
   "id": "e2ec02a7-1a4a-4b37-925c-21927ff19c17",
   "metadata": {},
   "outputs": [],
   "source": [
    "class User:\n",
    "    def __init__(self, user_name):\n",
    "        self.user_name = user_name\n",
    "        self._balance = 0\n",
    "        self.transaction_history = []\n",
    "        \n",
    "    def __str__(self):\n",
    "        return f\"User :{self.user_name} | Account Balance : {self._balance}\"\n",
    "\n",
    "class BankManagementSystem:\n",
    "    def __init__(self):\n",
    "        self.users = []\n",
    "\n",
    "    def add_user(self,user_name:str):\n",
    "        user = User(user_name)\n",
    "        self.users.append(user)\n",
    "\n",
    "    def add_balance(self, user_name:str, amount:int):\n",
    "        for user in self.users:\n",
    "            if user.user_name == user_name:\n",
    "                if self._is_valid_amount(amount):\n",
    "                    user._balance += amount\n",
    "                    deposit_log = f\"Balance Added, User : {user.user_name}' new balance is {user._balance}\"\n",
    "                    user.transaction_history.append(deposit_log)\n",
    "                    print(f\"Balance Added, User : {user.user_name}' new balance is {user._balance}\")\n",
    "\n",
    "    def withdraw_balance(self, user_name:str, amount:int):\n",
    "        for user in self.users:\n",
    "            if user.user_name == user_name:\n",
    "                if not self._is_valid_amount(amount):  \n",
    "                    return # Or raise an appropriate exception  \n",
    "\n",
    "                if user._balance - amount > 0:  \n",
    "                    user._balance -= amount  \n",
    "                    with_log = f\"Balance Withdrawn, User: {user.user_name}'s new balance is {user._balance}\"\n",
    "                    user.transaction_history.append(with_log)\n",
    "                else:  \n",
    "                    raise Exception(\"Insufficient balance\")  \n",
    "                return\n",
    "    def transfer_balance(self, from_user, to_user, amount):\n",
    "        if not self._is_valid_amount(amount):\n",
    "            return\n",
    "\n",
    "        for user in self.users:\n",
    "            if user.user_name == from_user:\n",
    "                if self._is_valid_amount(amount) and user._balance >= amount:\n",
    "                    user._balance -= amount\n",
    "                    transfer_log = f\"Balance Transferred to User: {to_user} | Amount {amount}\"\n",
    "                    user.transaction_history.append(transfer_log)\n",
    "                else:  \n",
    "                    raise Exception(\"Insufficient balance or invalid amount\")\n",
    "            if user.user_name == to_user:\n",
    "                user._balance += amount\n",
    "                transfer_log = f\"Balance Credited from User: {from_user} | Amount {amount}\"\n",
    "                user.transaction_history.append(transfer_log)\n",
    "                \n",
    "    @staticmethod\n",
    "    def _is_valid_amount(amount):\n",
    "        return amount > 0\n",
    "\n",
    "    ##List Users\n",
    "    def list_users(self):\n",
    "        print(\"User Details:\\n\")\n",
    "        for user in self.users:\n",
    "            print(f\"User : {user.user_name} | Balance : {user._balance}\")\n",
    "\n",
    "    ##List Users' Transactions\n",
    "    def list_users_transactions(self,user_name:str):\n",
    "        print(f\"User {user_name} Transaction Details:\\n\")\n",
    "        for user in self.users:\n",
    "            if user.user_name == user_name:\n",
    "                for trxs in user.transaction_history:\n",
    "                    print(trxs)\n",
    "\n",
    "\n",
    "    "
   ]
  },
  {
   "cell_type": "code",
   "execution_count": 78,
   "id": "0dbeca1a-e297-457b-9c9c-0af082553706",
   "metadata": {},
   "outputs": [
    {
     "name": "stdout",
     "output_type": "stream",
     "text": [
      "User Details:\n",
      "\n",
      "User : Anik | Balance : 0\n",
      "User : Basu | Balance : 0\n",
      "Balance Added, User : Anik' new balance is 2000\n",
      "Balance Added, User : Basu' new balance is 5000\n",
      "User Details:\n",
      "\n",
      "User : Anik | Balance : 2000\n",
      "User : Basu | Balance : 5000\n",
      "User Details:\n",
      "\n",
      "User : Anik | Balance : 2000\n",
      "User : Basu | Balance : 1400\n"
     ]
    }
   ],
   "source": [
    "b1 = BankManagementSystem()\n",
    "\n",
    "b1.add_user(\"Anik\")\n",
    "b1.add_user(\"Basu\")\n",
    "b1.list_users()\n",
    "\n",
    "b1.add_balance(\"Anik\",2000)\n",
    "b1.add_balance(\"Basu\",5000)\n",
    "b1.list_users()\n",
    "\n",
    "b1.withdraw_balance(\"Basu\",2300)\n",
    "b1.withdraw_balance(\"Basu\",1300)\n",
    "b1.list_users()"
   ]
  },
  {
   "cell_type": "code",
   "execution_count": 79,
   "id": "92e3fbb4-cecd-4c38-9d8e-6597b5d9ae0a",
   "metadata": {},
   "outputs": [
    {
     "name": "stdout",
     "output_type": "stream",
     "text": [
      "User Basu Transaction Details:\n",
      "\n",
      "Balance Added, User : Basu' new balance is 5000\n",
      "Balance Withdrawn, User: Basu's new balance is 2700\n",
      "Balance Withdrawn, User: Basu's new balance is 1400\n"
     ]
    }
   ],
   "source": [
    "b1.list_users_transactions(\"Basu\")"
   ]
  },
  {
   "cell_type": "code",
   "execution_count": 80,
   "id": "221411b0-e2fb-48ed-b596-e618c39facdc",
   "metadata": {},
   "outputs": [
    {
     "name": "stdout",
     "output_type": "stream",
     "text": [
      "User Details:\n",
      "\n",
      "User : Anik | Balance : 1400\n",
      "User : Basu | Balance : 2000\n",
      "User Basu Transaction Details:\n",
      "\n",
      "Balance Added, User : Basu' new balance is 5000\n",
      "Balance Withdrawn, User: Basu's new balance is 2700\n",
      "Balance Withdrawn, User: Basu's new balance is 1400\n",
      "Balance Credited from User: Anik | Amount 600\n",
      "User Anik Transaction Details:\n",
      "\n",
      "Balance Added, User : Anik' new balance is 2000\n",
      "Balance Transferred to User: Basu | Amount 600\n"
     ]
    }
   ],
   "source": [
    "b1.transfer_balance(\"Anik\",\"Basu\",600)\n",
    "\n",
    "b1.list_users()\n",
    "b1.list_users_transactions(\"Basu\")\n",
    "b1.list_users_transactions(\"Anik\")"
   ]
  },
  {
   "cell_type": "code",
   "execution_count": 81,
   "id": "4f64aadc-7585-49ba-aa52-927ca7ca5ff9",
   "metadata": {},
   "outputs": [
    {
     "ename": "Exception",
     "evalue": "Insufficient balance or invalid amount",
     "output_type": "error",
     "traceback": [
      "\u001b[1;31m---------------------------------------------------------------------------\u001b[0m",
      "\u001b[1;31mException\u001b[0m                                 Traceback (most recent call last)",
      "\u001b[1;32m~\\AppData\\Local\\Temp\\ipykernel_40736\\3632269010.py\u001b[0m in \u001b[0;36m<module>\u001b[1;34m\u001b[0m\n\u001b[1;32m----> 1\u001b[1;33m \u001b[0mb1\u001b[0m\u001b[1;33m.\u001b[0m\u001b[0mtransfer_balance\u001b[0m\u001b[1;33m(\u001b[0m\u001b[1;34m\"Anik\"\u001b[0m\u001b[1;33m,\u001b[0m\u001b[1;34m\"Basu\"\u001b[0m\u001b[1;33m,\u001b[0m\u001b[1;36m1600\u001b[0m\u001b[1;33m)\u001b[0m\u001b[1;33m\u001b[0m\u001b[1;33m\u001b[0m\u001b[0m\n\u001b[0m\u001b[0;32m      2\u001b[0m \u001b[1;33m\u001b[0m\u001b[0m\n\u001b[0;32m      3\u001b[0m \u001b[0mb1\u001b[0m\u001b[1;33m.\u001b[0m\u001b[0mlist_users\u001b[0m\u001b[1;33m(\u001b[0m\u001b[1;33m)\u001b[0m\u001b[1;33m\u001b[0m\u001b[1;33m\u001b[0m\u001b[0m\n\u001b[0;32m      4\u001b[0m \u001b[0mb1\u001b[0m\u001b[1;33m.\u001b[0m\u001b[0mlist_users_transactions\u001b[0m\u001b[1;33m(\u001b[0m\u001b[1;34m\"Basu\"\u001b[0m\u001b[1;33m)\u001b[0m\u001b[1;33m\u001b[0m\u001b[1;33m\u001b[0m\u001b[0m\n\u001b[0;32m      5\u001b[0m \u001b[0mb1\u001b[0m\u001b[1;33m.\u001b[0m\u001b[0mlist_users_transactions\u001b[0m\u001b[1;33m(\u001b[0m\u001b[1;34m\"Anik\"\u001b[0m\u001b[1;33m)\u001b[0m\u001b[1;33m\u001b[0m\u001b[1;33m\u001b[0m\u001b[0m\n",
      "\u001b[1;32m~\\AppData\\Local\\Temp\\ipykernel_40736\\2651535934.py\u001b[0m in \u001b[0;36mtransfer_balance\u001b[1;34m(self, from_user, to_user, amount)\u001b[0m\n\u001b[0;32m     49\u001b[0m                     \u001b[0muser\u001b[0m\u001b[1;33m.\u001b[0m\u001b[0mtransaction_history\u001b[0m\u001b[1;33m.\u001b[0m\u001b[0mappend\u001b[0m\u001b[1;33m(\u001b[0m\u001b[0mtransfer_log\u001b[0m\u001b[1;33m)\u001b[0m\u001b[1;33m\u001b[0m\u001b[1;33m\u001b[0m\u001b[0m\n\u001b[0;32m     50\u001b[0m                 \u001b[1;32melse\u001b[0m\u001b[1;33m:\u001b[0m\u001b[1;33m\u001b[0m\u001b[1;33m\u001b[0m\u001b[0m\n\u001b[1;32m---> 51\u001b[1;33m                     \u001b[1;32mraise\u001b[0m \u001b[0mException\u001b[0m\u001b[1;33m(\u001b[0m\u001b[1;34m\"Insufficient balance or invalid amount\"\u001b[0m\u001b[1;33m)\u001b[0m\u001b[1;33m\u001b[0m\u001b[1;33m\u001b[0m\u001b[0m\n\u001b[0m\u001b[0;32m     52\u001b[0m             \u001b[1;32mif\u001b[0m \u001b[0muser\u001b[0m\u001b[1;33m.\u001b[0m\u001b[0muser_name\u001b[0m \u001b[1;33m==\u001b[0m \u001b[0mto_user\u001b[0m\u001b[1;33m:\u001b[0m\u001b[1;33m\u001b[0m\u001b[1;33m\u001b[0m\u001b[0m\n\u001b[0;32m     53\u001b[0m                 \u001b[0muser\u001b[0m\u001b[1;33m.\u001b[0m\u001b[0m_balance\u001b[0m \u001b[1;33m+=\u001b[0m \u001b[0mamount\u001b[0m\u001b[1;33m\u001b[0m\u001b[1;33m\u001b[0m\u001b[0m\n",
      "\u001b[1;31mException\u001b[0m: Insufficient balance or invalid amount"
     ]
    }
   ],
   "source": [
    "# b1.transfer_balance(\"Anik\",\"Basu\",1600)\n",
    "\n",
    "# b1.list_users()\n",
    "# b1.list_users_transactions(\"Basu\")\n",
    "# b1.list_users_transactions(\"Anik\")"
   ]
  },
  {
   "cell_type": "code",
   "execution_count": 92,
   "id": "c90f3aa4-44c0-46a4-84ff-eb54342f1d23",
   "metadata": {},
   "outputs": [],
   "source": [
    "def zigzag_pattern(val, n):\n",
    "    pattern = list(range(n)) + list(range(n-2, 0, -1))\n",
    "    result = []\n",
    "    for i in range(val):\n",
    "        result.append(pattern[i % len(pattern)])\n",
    "    return result"
   ]
  },
  {
   "cell_type": "code",
   "execution_count": 93,
   "id": "b8a749d4-dcca-480c-95c3-78d8ea2d69dc",
   "metadata": {},
   "outputs": [
    {
     "name": "stdout",
     "output_type": "stream",
     "text": [
      "[0, 1, 2, 1, 0, 1, 2, 1, 0, 1, 2, 1, 0, 1, 2, 1, 0, 1, 2, 1]\n"
     ]
    }
   ],
   "source": [
    "print(zigzag_pattern(20,3))"
   ]
  },
  {
   "cell_type": "code",
   "execution_count": 100,
   "id": "26d08fd1-24bf-47f7-b438-5e49412ec7e8",
   "metadata": {},
   "outputs": [],
   "source": [
    "def convert(s: str, numRows: int) -> str:\n",
    "    def zigzag_pattern(val, n):\n",
    "        pattern = list(range(n)) + list(range(n-2, 0, -1))\n",
    "        result = []\n",
    "        for i in range(val):\n",
    "            result.append(pattern[i % len(pattern)])\n",
    "        return result\n",
    "    \n",
    "    n = len(s)\n",
    "    result_arr = zigzag_pattern(n, numRows)\n",
    "    print(result_arr)\n",
    "\n",
    "    i = 0\n",
    "    result_dict = {}\n",
    "    for j in range(len(s)):\n",
    "        result_dict[result_arr[i]].append(s[j])\n",
    "        i += 1\n",
    "    \n",
    "    print(result_dict)"
   ]
  },
  {
   "cell_type": "code",
   "execution_count": 101,
   "id": "be91acb1-6e73-44ee-86eb-6b42b7c4ec0d",
   "metadata": {},
   "outputs": [
    {
     "name": "stdout",
     "output_type": "stream",
     "text": [
      "[0, 1, 2, 1, 0, 1, 2, 1]\n"
     ]
    },
    {
     "ename": "KeyError",
     "evalue": "0",
     "output_type": "error",
     "traceback": [
      "\u001b[1;31m---------------------------------------------------------------------------\u001b[0m",
      "\u001b[1;31mKeyError\u001b[0m                                  Traceback (most recent call last)",
      "\u001b[1;32m~\\AppData\\Local\\Temp\\ipykernel_40736\\907907903.py\u001b[0m in \u001b[0;36m<module>\u001b[1;34m\u001b[0m\n\u001b[1;32m----> 1\u001b[1;33m \u001b[0mconvert\u001b[0m\u001b[1;33m(\u001b[0m\u001b[1;34m\"ABCDEFGH\"\u001b[0m\u001b[1;33m,\u001b[0m\u001b[1;36m3\u001b[0m\u001b[1;33m)\u001b[0m\u001b[1;33m\u001b[0m\u001b[1;33m\u001b[0m\u001b[0m\n\u001b[0m",
      "\u001b[1;32m~\\AppData\\Local\\Temp\\ipykernel_40736\\4274557196.py\u001b[0m in \u001b[0;36mconvert\u001b[1;34m(s, numRows)\u001b[0m\n\u001b[0;32m     14\u001b[0m     \u001b[0mresult_dict\u001b[0m \u001b[1;33m=\u001b[0m \u001b[1;33m{\u001b[0m\u001b[1;33m}\u001b[0m\u001b[1;33m\u001b[0m\u001b[1;33m\u001b[0m\u001b[0m\n\u001b[0;32m     15\u001b[0m     \u001b[1;32mfor\u001b[0m \u001b[0mj\u001b[0m \u001b[1;32min\u001b[0m \u001b[0mrange\u001b[0m\u001b[1;33m(\u001b[0m\u001b[0mlen\u001b[0m\u001b[1;33m(\u001b[0m\u001b[0ms\u001b[0m\u001b[1;33m)\u001b[0m\u001b[1;33m)\u001b[0m\u001b[1;33m:\u001b[0m\u001b[1;33m\u001b[0m\u001b[1;33m\u001b[0m\u001b[0m\n\u001b[1;32m---> 16\u001b[1;33m         \u001b[0mresult_dict\u001b[0m\u001b[1;33m[\u001b[0m\u001b[0mresult_arr\u001b[0m\u001b[1;33m[\u001b[0m\u001b[0mi\u001b[0m\u001b[1;33m]\u001b[0m\u001b[1;33m]\u001b[0m\u001b[1;33m.\u001b[0m\u001b[0mappend\u001b[0m\u001b[1;33m(\u001b[0m\u001b[0ms\u001b[0m\u001b[1;33m[\u001b[0m\u001b[0mj\u001b[0m\u001b[1;33m]\u001b[0m\u001b[1;33m)\u001b[0m\u001b[1;33m\u001b[0m\u001b[1;33m\u001b[0m\u001b[0m\n\u001b[0m\u001b[0;32m     17\u001b[0m         \u001b[0mi\u001b[0m \u001b[1;33m+=\u001b[0m \u001b[1;36m1\u001b[0m\u001b[1;33m\u001b[0m\u001b[1;33m\u001b[0m\u001b[0m\n\u001b[0;32m     18\u001b[0m \u001b[1;33m\u001b[0m\u001b[0m\n",
      "\u001b[1;31mKeyError\u001b[0m: 0"
     ]
    }
   ],
   "source": [
    "convert(\"ABCDEFGH\",3)"
   ]
  },
  {
   "cell_type": "code",
   "execution_count": null,
   "id": "7209a874-5e35-410a-89ca-9f6cfce0b34a",
   "metadata": {},
   "outputs": [],
   "source": []
  }
 ],
 "metadata": {
  "kernelspec": {
   "display_name": "Python 3 (ipykernel)",
   "language": "python",
   "name": "python3"
  },
  "language_info": {
   "codemirror_mode": {
    "name": "ipython",
    "version": 3
   },
   "file_extension": ".py",
   "mimetype": "text/x-python",
   "name": "python",
   "nbconvert_exporter": "python",
   "pygments_lexer": "ipython3",
   "version": "3.10.14"
  }
 },
 "nbformat": 4,
 "nbformat_minor": 5
}
