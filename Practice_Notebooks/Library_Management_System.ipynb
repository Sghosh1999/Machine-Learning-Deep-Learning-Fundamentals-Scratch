{
 "cells": [
  {
   "cell_type": "code",
   "execution_count": 1,
   "id": "0c5ed45e-700e-4686-bb53-0a16a0c88d4b",
   "metadata": {},
   "outputs": [],
   "source": [
    "## Library Management Systsem\n",
    "\n",
    "## What are the functionlaity\n",
    "## Add Book\n",
    "## Add a User\n",
    "## Remove Book\n",
    "## List ALl Books\n",
    "## Search a book by Author\n",
    "## A User can Borrow/return Books\n",
    "\n",
    "## Identify teh Nouns\n",
    "## class Book -> book_name, author, is_borrowed\n",
    "\n",
    "## class User -> user_name, list of borrowed_books {user: []}\n",
    "\n",
    "## Library Managemnet System\n",
    "## - Track Borrowed Records\n",
    "## - Prevent to borrow already borrowed books\n",
    "## class LibraryManagementSystem"
   ]
  },
  {
   "cell_type": "code",
   "execution_count": 36,
   "id": "c0301e05-eaf1-40d9-8b0f-4eef51e3717d",
   "metadata": {},
   "outputs": [],
   "source": [
    "class Book:\n",
    "    def __init__(self, title, author):\n",
    "        self.title = title\n",
    "        self.author = author\n",
    "        self.is_borrowed = False\n",
    "\n",
    "    def __str__(self):\n",
    "        return f\"Book {self.title} , Author : {self.author} , Borrowed : {self.is_borrowed}\"\n",
    "\n",
    "class User:\n",
    "    def __init__(self, name):\n",
    "        self.name = name\n",
    "        self.borrowed_books = []\n",
    "\n",
    "    def __str__(self):\n",
    "        return f\"User : {self.name}'s borrowed books are {self.borrowed_books}\"\n",
    "\n",
    "class LibraryManagementSystem:\n",
    "    def __init__(self):\n",
    "        self.books = []\n",
    "        self.users = {}\n",
    "        pass\n",
    "\n",
    "    #Add Book\n",
    "    def add_book(self, title, author):\n",
    "        book = Book(title, author)\n",
    "        self.books.append(book)\n",
    "\n",
    "    ##Add a User\n",
    "    def add_user(self, user_name):\n",
    "        user = User(user_name)\n",
    "        self.users[user.name] = user\n",
    "\n",
    "    #Remove a book\n",
    "    def remove_book(self, title):\n",
    "        self.books = [book for book in self.books if book.title != title]\n",
    "\n",
    "    ##Borrow Book\n",
    "    def borrow_books(self, user_name, titles):\n",
    "        ##Getting the User Object\n",
    "        user = self.users.get(user_name)\n",
    "        \n",
    "        if not user:\n",
    "            return f\"User : {user_name} not found\"\n",
    "\n",
    "        messages = []\n",
    "        for title in titles:\n",
    "            for book in self.books:\n",
    "                if book.title.lower() == title.lower() and not book.is_borrowed:\n",
    "                    book.is_borrowed = True\n",
    "                    user.borrowed_books.append(book)\n",
    "                    message = f\"{user_name} borrowed book named {title}\"\n",
    "                    messages.append(message)\n",
    "                    break\n",
    "            else:\n",
    "                message = f\"Book : {title} is not available or doesn't exist\" \n",
    "                messages.append(message)\n",
    "        return messages\n",
    "\n",
    "    ##Borrow Book\n",
    "    def return_book(self, user_name, title):\n",
    "        ##Getting the User Object\n",
    "        user = self.users.get(user_name)\n",
    "        \n",
    "        if not user:\n",
    "            return f\"User : {user_name} not found\"\n",
    "        \n",
    "        for book in self.books:\n",
    "            if book.title.lower() == title.lower():\n",
    "                book.is_borrowed = False\n",
    "                user.borrowed_books.remove(book)\n",
    "                return f\"{user_name} returned book named {title}\"\n",
    "        return f\"{username} does not have the book {title}\"\n",
    "\n",
    "    #List ALl the books\n",
    "    def list_all_books(self):\n",
    "        for book in self.books:\n",
    "            print(book)\n",
    "\n",
    "    #Get the user books\n",
    "    def list_user_books(self, user_name):\n",
    "        user = self.users.get(user_name)\n",
    "        for book in user.borrowed_books:\n",
    "            print(book.title)\n",
    "            print()"
   ]
  },
  {
   "cell_type": "code",
   "execution_count": 37,
   "id": "94c4e7ab-c505-42f7-9b3e-95f785c852b2",
   "metadata": {},
   "outputs": [
    {
     "name": "stdout",
     "output_type": "stream",
     "text": [
      "Book Atomic Habits , Author : James Clear , Borrowed : False\n",
      "Book The God Equation , Author : Michio Kaku , Borrowed : False\n",
      "Book 1984 , Author : Geroge Orwell , Borrowed : False\n"
     ]
    }
   ],
   "source": [
    "lib = LibraryManagementSystem()\n",
    "lib.add_user(\"Arka\")\n",
    "lib.add_user(\"Alice\")\n",
    "lib.add_user(\"Bon\")\n",
    "\n",
    "lib.add_book(\"Atomic Habits\", \"James Clear\")\n",
    "lib.add_book(\"The God Equation\", \"Michio Kaku\")\n",
    "lib.add_book(\"1984\", \"Geroge Orwell\")\n",
    "\n",
    "#List ALl Books\n",
    "lib.list_all_books()"
   ]
  },
  {
   "cell_type": "code",
   "execution_count": 38,
   "id": "f228fcb2-614a-4664-be16-4d24f7a931ac",
   "metadata": {},
   "outputs": [
    {
     "name": "stdout",
     "output_type": "stream",
     "text": [
      "Alice borrowed book named 1984\n",
      "Alice borrowed book named Atomic Habits\n",
      "Book : Unknown_book is not available or doesn't exist\n"
     ]
    }
   ],
   "source": [
    "result = lib.borrow_books(\"Alice\", [\"1984\",\"Atomic Habits\",\"Unknown_book\"])\n",
    "for msg in result:\n",
    "    print(msg)"
   ]
  },
  {
   "cell_type": "code",
   "execution_count": 39,
   "id": "b522fc65-0f2f-49b7-aeb2-ce60f750ca57",
   "metadata": {},
   "outputs": [
    {
     "name": "stdout",
     "output_type": "stream",
     "text": [
      "1984\n",
      "\n",
      "Atomic Habits\n",
      "\n"
     ]
    }
   ],
   "source": [
    "lib.list_user_books(\"Alice\")"
   ]
  },
  {
   "cell_type": "code",
   "execution_count": 47,
   "id": "34ad7c99-fc84-43d8-9bb3-827f1fd8a600",
   "metadata": {},
   "outputs": [],
   "source": [
    "from collections import defaultdict\n",
    "s = {}\n",
    "s1 = defaultdict(int)"
   ]
  },
  {
   "cell_type": "code",
   "execution_count": 48,
   "id": "1560e645-38cd-4243-b666-54fa2a727f43",
   "metadata": {},
   "outputs": [
    {
     "data": {
      "text/plain": [
       "{}"
      ]
     },
     "execution_count": 48,
     "metadata": {},
     "output_type": "execute_result"
    }
   ],
   "source": [
    "s"
   ]
  },
  {
   "cell_type": "code",
   "execution_count": 49,
   "id": "881989ff-8d8f-4cd6-bdd8-21ab76c9f7ee",
   "metadata": {},
   "outputs": [
    {
     "data": {
      "text/plain": [
       "defaultdict(int, {})"
      ]
     },
     "execution_count": 49,
     "metadata": {},
     "output_type": "execute_result"
    }
   ],
   "source": [
    "s1"
   ]
  },
  {
   "cell_type": "code",
   "execution_count": null,
   "id": "b766dea9-a0c9-4031-9bdc-c3719e9964bc",
   "metadata": {},
   "outputs": [],
   "source": []
  }
 ],
 "metadata": {
  "kernelspec": {
   "display_name": "Python 3 (ipykernel)",
   "language": "python",
   "name": "python3"
  },
  "language_info": {
   "codemirror_mode": {
    "name": "ipython",
    "version": 3
   },
   "file_extension": ".py",
   "mimetype": "text/x-python",
   "name": "python",
   "nbconvert_exporter": "python",
   "pygments_lexer": "ipython3",
   "version": "3.10.14"
  }
 },
 "nbformat": 4,
 "nbformat_minor": 5
}
