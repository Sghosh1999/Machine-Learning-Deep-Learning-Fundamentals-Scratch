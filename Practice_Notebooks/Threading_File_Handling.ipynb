{
 "cells": [
  {
   "cell_type": "code",
   "execution_count": null,
   "id": "0e8e34ee",
   "metadata": {},
   "outputs": [
    {
     "name": "stdout",
     "output_type": "stream",
     "text": [
      "Thread 0: starting at Sat May 10 01:36:18 2025\n",
      "Thread 1: starting at Sat May 10 01:36:18 2025\n",
      "Thread 2: starting at Sat May 10 01:36:18 2025\n",
      "Thread 3: starting at Sat May 10 01:36:18 2025\n",
      "Thread 4: starting at Sat May 10 01:36:18 2025\n"
     ]
    },
    {
     "name": "stdout",
     "output_type": "stream",
     "text": [
      "Thread 1: finishing at Sat May 10 01:36:19 2025Thread 2: finishing at Sat May 10 01:36:19 2025\n",
      "\n",
      "Thread 3: finishing at Sat May 10 01:36:21 2025\n",
      "Thread 0: finishing at Sat May 10 01:36:22 2025\n",
      "Thread 4: finishing at Sat May 10 01:36:23 2025\n"
     ]
    }
   ],
   "source": [
    "## Multithreading Examples\n",
    "\n",
    "import threading\n",
    "import time\n",
    "import random\n",
    "\n",
    "# Example 1: Basic Threading\n",
    "def thread_function(name):\n",
    "    print(f\"Thread {name}: starting at {time.ctime()}\")\n",
    "    time.sleep(random.randint(1, 5))\n",
    "    print(f\"Thread {name}: finishing at {time.ctime()}\")\n",
    "\n",
    "# Create threads\n",
    "threads = []\n",
    "for index in range(5):\n",
    "    thread = threading.Thread(target=thread_function, args=(index,))\n",
    "    threads.append(thread)\n",
    "    thread.start()"
   ]
  },
  {
   "cell_type": "markdown",
   "id": "05b9af11",
   "metadata": {},
   "source": [
    "## File Handling"
   ]
  },
  {
   "cell_type": "code",
   "execution_count": 3,
   "id": "3defcea5",
   "metadata": {},
   "outputs": [],
   "source": [
    "## Write a text file in sample.txt\n",
    "with open('sample.txt', 'w') as f:\n",
    "    f.write(\"This is a sample text file.\\n\")\n",
    "    f.write(\"It contains some random text.\\n\")\n",
    "    f.write(\"This is the third line of the file.\\n\")\n",
    "    f.write(\"And this is the fourth line.\\n\")\n",
    "    f.close()\n"
   ]
  },
  {
   "cell_type": "code",
   "execution_count": 4,
   "id": "be48bb50",
   "metadata": {},
   "outputs": [
    {
     "name": "stdout",
     "output_type": "stream",
     "text": [
      "Total Word Count : 25\n"
     ]
    }
   ],
   "source": [
    "## Count number of words in the file\n",
    "def count_words(filename):\n",
    "    with open(filename, 'r') as f:\n",
    "        text = f.read()\n",
    "        words = text.split()\n",
    "        return len(words)\n",
    "\n",
    "print(f\"Total Word Count : {count_words('sample.txt')}\")"
   ]
  },
  {
   "cell_type": "code",
   "execution_count": null,
   "id": "2705038c",
   "metadata": {},
   "outputs": [],
   "source": []
  }
 ],
 "metadata": {
  "kernelspec": {
   "display_name": "genai",
   "language": "python",
   "name": "python3"
  },
  "language_info": {
   "codemirror_mode": {
    "name": "ipython",
    "version": 3
   },
   "file_extension": ".py",
   "mimetype": "text/x-python",
   "name": "python",
   "nbconvert_exporter": "python",
   "pygments_lexer": "ipython3",
   "version": "3.12.8"
  }
 },
 "nbformat": 4,
 "nbformat_minor": 5
}
