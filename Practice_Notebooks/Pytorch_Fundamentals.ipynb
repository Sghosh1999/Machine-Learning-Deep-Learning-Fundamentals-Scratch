{
 "cells": [
  {
   "cell_type": "code",
   "execution_count": 2,
   "id": "601d1a59-9ef2-4f4f-96bc-899675fd377b",
   "metadata": {},
   "outputs": [
    {
     "data": {
      "text/plain": [
       "'2.6.0+cpu'"
      ]
     },
     "execution_count": 2,
     "metadata": {},
     "output_type": "execute_result"
    }
   ],
   "source": [
    "import torch\n",
    "torch.__version__"
   ]
  },
  {
   "cell_type": "code",
   "execution_count": 3,
   "id": "9db2cb15-54c6-4008-a7eb-8020893dffe8",
   "metadata": {},
   "outputs": [
    {
     "data": {
      "text/plain": [
       "tensor(7)"
      ]
     },
     "execution_count": 3,
     "metadata": {},
     "output_type": "execute_result"
    }
   ],
   "source": [
    "##creating Tensors\n",
    "#Scaler\n",
    "#vector\n",
    "#matrix\n",
    "#tensor\n",
    "#Tensor is a multidimensional matrix containing a single data type\n",
    "scaler = torch.tensor(7)\n",
    "scaler"
   ]
  },
  {
   "cell_type": "code",
   "execution_count": 4,
   "id": "3d0d6222-f52d-4ae2-b0dc-265ef68fc0af",
   "metadata": {},
   "outputs": [
    {
     "data": {
      "text/plain": [
       "7"
      ]
     },
     "execution_count": 4,
     "metadata": {},
     "output_type": "execute_result"
    }
   ],
   "source": [
    "#scaler to normal integer\n",
    "scaler.item()"
   ]
  },
  {
   "cell_type": "code",
   "execution_count": 5,
   "id": "739e3b95-9314-48e0-b36e-d70c17a749d3",
   "metadata": {},
   "outputs": [
    {
     "data": {
      "text/plain": [
       "tensor([7, 7])"
      ]
     },
     "execution_count": 5,
     "metadata": {},
     "output_type": "execute_result"
    }
   ],
   "source": [
    "vector = torch.tensor([7,7])\n",
    "vector"
   ]
  },
  {
   "cell_type": "code",
   "execution_count": 7,
   "id": "fd09602a-af5a-479b-b836-44bbc1e98b54",
   "metadata": {},
   "outputs": [
    {
     "data": {
      "text/plain": [
       "tensor([[ 7,  9],\n",
       "        [ 9, 10]])"
      ]
     },
     "execution_count": 7,
     "metadata": {},
     "output_type": "execute_result"
    }
   ],
   "source": [
    " #MATRIX\n",
    "MATRIX = torch.tensor([[7,9],\n",
    "                      [9,10]])\n",
    "MATRIX"
   ]
  },
  {
   "cell_type": "code",
   "execution_count": 10,
   "id": "7f0a94da-90a4-4af3-a520-bf8cdbdc862c",
   "metadata": {},
   "outputs": [
    {
     "data": {
      "text/plain": [
       "torch.Size([2, 2])"
      ]
     },
     "execution_count": 10,
     "metadata": {},
     "output_type": "execute_result"
    }
   ],
   "source": [
    "MATRIX.shape"
   ]
  },
  {
   "cell_type": "code",
   "execution_count": 14,
   "id": "a449990b-9dfa-4181-9db9-7971a10df052",
   "metadata": {},
   "outputs": [
    {
     "data": {
      "text/plain": [
       "tensor([[[1, 2, 3],\n",
       "         [4, 5, 6],\n",
       "         [7, 8, 9]]])"
      ]
     },
     "execution_count": 14,
     "metadata": {},
     "output_type": "execute_result"
    }
   ],
   "source": [
    "## TENSOR\n",
    "TENSOR = torch.tensor([[[1,2,3],\n",
    "                      [4,5,6],\n",
    "                      [7,8,9]]])\n",
    "TENSOR"
   ]
  },
  {
   "cell_type": "code",
   "execution_count": 15,
   "id": "1702d6fd-e981-43ec-99ce-c43b2147e8b8",
   "metadata": {},
   "outputs": [
    {
     "data": {
      "text/plain": [
       "torch.Size([1, 3, 3])"
      ]
     },
     "execution_count": 15,
     "metadata": {},
     "output_type": "execute_result"
    }
   ],
   "source": [
    "TENSOR.shape"
   ]
  },
  {
   "cell_type": "code",
   "execution_count": 19,
   "id": "79425550-beb4-49a6-ba8a-128a2ee3d3d9",
   "metadata": {},
   "outputs": [
    {
     "data": {
      "text/plain": [
       "tensor([[0.8823, 0.9150, 0.3829, 0.9593],\n",
       "        [0.3904, 0.6009, 0.2566, 0.7936],\n",
       "        [0.9408, 0.1332, 0.9346, 0.5936]])"
      ]
     },
     "execution_count": 19,
     "metadata": {},
     "output_type": "execute_result"
    }
   ],
   "source": [
    "##Random Tensors\n",
    "#create a random tensor of sixe (3,4)\n",
    "torch.manual_seed(42)\n",
    "random_number = torch.rand(3,4)\n",
    "random_number"
   ]
  },
  {
   "cell_type": "code",
   "execution_count": 21,
   "id": "b7a6bf78-03ef-4f06-8775-931a403c8e47",
   "metadata": {},
   "outputs": [
    {
     "data": {
      "text/plain": [
       "tensor([[0., 0., 0., 0.],\n",
       "        [0., 0., 0., 0.],\n",
       "        [0., 0., 0., 0.]])"
      ]
     },
     "execution_count": 21,
     "metadata": {},
     "output_type": "execute_result"
    }
   ],
   "source": [
    "## Zeros & Ones\n",
    "zeros = torch.zeros(size=(3,4))\n",
    "zeros"
   ]
  },
  {
   "cell_type": "code",
   "execution_count": 22,
   "id": "ca5b18a2-964f-4a08-ab87-70c25146366f",
   "metadata": {},
   "outputs": [
    {
     "data": {
      "text/plain": [
       "tensor([[1., 1., 1.],\n",
       "        [1., 1., 1.],\n",
       "        [1., 1., 1.],\n",
       "        [1., 1., 1.]])"
      ]
     },
     "execution_count": 22,
     "metadata": {},
     "output_type": "execute_result"
    }
   ],
   "source": [
    "ones = torch.ones(size=(4,3))\n",
    "ones"
   ]
  },
  {
   "cell_type": "code",
   "execution_count": 23,
   "id": "aed095ec-6552-4211-bde6-0683c7ae4d64",
   "metadata": {},
   "outputs": [
    {
     "data": {
      "text/plain": [
       "torch.float32"
      ]
     },
     "execution_count": 23,
     "metadata": {},
     "output_type": "execute_result"
    }
   ],
   "source": [
    "ones.dtype"
   ]
  },
  {
   "cell_type": "markdown",
   "id": "3ea6d8b5-3383-413b-9f31-a6f29a10ebdc",
   "metadata": {},
   "source": [
    "----"
   ]
  },
  {
   "cell_type": "code",
   "execution_count": 33,
   "id": "925d1e00-b868-475f-8848-eded7205ad23",
   "metadata": {},
   "outputs": [
    {
     "data": {
      "text/plain": [
       "tensor([0, 2, 4, 6, 8])"
      ]
     },
     "execution_count": 33,
     "metadata": {},
     "output_type": "execute_result"
    }
   ],
   "source": [
    "### Creating a range of tensors with torch.arange\n",
    "a = torch.arange(0,10,2)\n",
    "a"
   ]
  },
  {
   "cell_type": "code",
   "execution_count": 48,
   "id": "fd305bae-ee4c-4d9f-ba61-d3e14aa428b9",
   "metadata": {},
   "outputs": [
    {
     "data": {
      "text/plain": [
       "tensor([3.0000, 6.0000, 7.2000])"
      ]
     },
     "execution_count": 48,
     "metadata": {},
     "output_type": "execute_result"
    }
   ],
   "source": [
    "## Tensor Datatypes\n",
    "#Float32 tensor\n",
    "x = torch.tensor([3.0,6.0,7.2],\n",
    "                              dtype=torch.float32,\n",
    "                              device=None,\n",
    "                              requires_grad=False)\n",
    "x"
   ]
  },
  {
   "cell_type": "code",
   "execution_count": 49,
   "id": "960bc858-cdda-4d27-853d-284933b79651",
   "metadata": {},
   "outputs": [
    {
     "data": {
      "text/plain": [
       "tensor([3.0000, 6.0000, 7.1992], dtype=torch.float16)"
      ]
     },
     "execution_count": 49,
     "metadata": {},
     "output_type": "execute_result"
    }
   ],
   "source": [
    "float_16_tensor = x.type(torch.float16)\n",
    "float_16_tensor"
   ]
  },
  {
   "cell_type": "code",
   "execution_count": 50,
   "id": "6e664683-4b44-46e3-a0c5-e630fcf4fb8e",
   "metadata": {},
   "outputs": [
    {
     "data": {
      "text/plain": [
       "tensor([11, 12, 13])"
      ]
     },
     "execution_count": 50,
     "metadata": {},
     "output_type": "execute_result"
    }
   ],
   "source": [
    "##Manipulating Tensors\n",
    "tensor = torch.tensor([1,2,3])\n",
    "tensor+10"
   ]
  },
  {
   "cell_type": "code",
   "execution_count": 52,
   "id": "21f1f154-e6df-467b-925a-3aeb1dfa14da",
   "metadata": {},
   "outputs": [
    {
     "data": {
      "text/plain": [
       "tensor([10, 20, 30])"
      ]
     },
     "execution_count": 52,
     "metadata": {},
     "output_type": "execute_result"
    }
   ],
   "source": [
    "tensor * 10"
   ]
  },
  {
   "cell_type": "code",
   "execution_count": 53,
   "id": "fdcfd29c-8c18-4e6d-99b2-240808312bf9",
   "metadata": {},
   "outputs": [
    {
     "data": {
      "text/plain": [
       "tensor([10, 20, 30])"
      ]
     },
     "execution_count": 53,
     "metadata": {},
     "output_type": "execute_result"
    }
   ],
   "source": [
    "##Pytorch inbuilt functions\n",
    "torch.mul(tensor,10)"
   ]
  },
  {
   "cell_type": "code",
   "execution_count": 58,
   "id": "a8806902-0199-4ce7-a3af-779624139938",
   "metadata": {},
   "outputs": [
    {
     "name": "stdout",
     "output_type": "stream",
     "text": [
      "tensor([1, 2, 3]) * tensor([1, 2, 3])\n",
      "tensor([1, 4, 9])\n"
     ]
    }
   ],
   "source": [
    "## MAtrix Multiplication\n",
    "## Two ways in performing matrix multiplication\n",
    "\n",
    "#Element Wise Multiplication\n",
    "print(tensor,\"*\",tensor)\n",
    "print(tensor * tensor)"
   ]
  },
  {
   "cell_type": "code",
   "execution_count": 59,
   "id": "5f179fee-aa3f-4d41-b338-052166c03162",
   "metadata": {},
   "outputs": [
    {
     "data": {
      "text/plain": [
       "tensor(14)"
      ]
     },
     "execution_count": 59,
     "metadata": {},
     "output_type": "execute_result"
    }
   ],
   "source": [
    "#Matrix Multiplication (Dot Product)\n",
    "torch.matmul(tensor,tensor)"
   ]
  },
  {
   "cell_type": "code",
   "execution_count": 63,
   "id": "3d33e9c3-44d8-4ded-b2b6-e2066cc0d579",
   "metadata": {},
   "outputs": [
    {
     "data": {
      "text/plain": [
       "(torch.Size([3, 2]), torch.Size([3, 2]))"
      ]
     },
     "execution_count": 63,
     "metadata": {},
     "output_type": "execute_result"
    }
   ],
   "source": [
    "#Transpose Matrix\n",
    "tensorA = torch.tensor([[1,2],\n",
    "                       [3,4],\n",
    "                       [5,6]])\n",
    "\n",
    "tensorB = torch.tensor([[7,8],\n",
    "                        [9,10],\n",
    "                        [11,12]])\n",
    "\n",
    "tensorA.shape, tensorB.shape"
   ]
  },
  {
   "cell_type": "code",
   "execution_count": 65,
   "id": "5e5da30e-d850-44be-8c73-da6ac8cdb0ff",
   "metadata": {},
   "outputs": [
    {
     "data": {
      "text/plain": [
       "tensor([[ 23,  29,  35],\n",
       "        [ 53,  67,  81],\n",
       "        [ 83, 105, 127]])"
      ]
     },
     "execution_count": 65,
     "metadata": {},
     "output_type": "execute_result"
    }
   ],
   "source": [
    "new_tensor = torch.matmul(tensorA, tensorB.T)\n",
    "new_tensor"
   ]
  },
  {
   "cell_type": "code",
   "execution_count": 67,
   "id": "3b43415a-749d-43f1-a371-cde48725fae0",
   "metadata": {},
   "outputs": [
    {
     "data": {
      "text/plain": [
       "tensor(23)"
      ]
     },
     "execution_count": 67,
     "metadata": {},
     "output_type": "execute_result"
    }
   ],
   "source": [
    "## Finding min, max, sum, etc\n",
    "min = torch.min(new_tensor)\n",
    "min"
   ]
  },
  {
   "cell_type": "code",
   "execution_count": 69,
   "id": "c3ef9501-9f26-48f6-9295-aa69f50b9a3d",
   "metadata": {},
   "outputs": [
    {
     "data": {
      "text/plain": [
       "tensor(67.)"
      ]
     },
     "execution_count": 69,
     "metadata": {},
     "output_type": "execute_result"
    }
   ],
   "source": [
    "#Torch.mean doesnt work on int64 or Long datatype, thats why\n",
    "#converting the datatype to float32\n",
    "torch.mean(new_tensor.type(torch.float32))"
   ]
  },
  {
   "cell_type": "code",
   "execution_count": 70,
   "id": "40fb467d-23ad-46db-a337-929ed894526d",
   "metadata": {},
   "outputs": [
    {
     "data": {
      "text/plain": [
       "tensor([ 1, 11, 21, 31, 41, 51, 61, 71, 81, 91])"
      ]
     },
     "execution_count": 70,
     "metadata": {},
     "output_type": "execute_result"
    }
   ],
   "source": [
    "array_tensor = torch.arange(1,100,10)\n",
    "array_tensor"
   ]
  },
  {
   "cell_type": "code",
   "execution_count": 71,
   "id": "d3d61654-71eb-4840-a249-dc39ea9a1258",
   "metadata": {},
   "outputs": [
    {
     "data": {
      "text/plain": [
       "tensor(0)"
      ]
     },
     "execution_count": 71,
     "metadata": {},
     "output_type": "execute_result"
    }
   ],
   "source": [
    "#Fin minimum element index\n",
    "min = torch.argmin(array_tensor)\n",
    "min"
   ]
  },
  {
   "cell_type": "code",
   "execution_count": 72,
   "id": "67388d07-4510-4ec3-8185-6315d1c39924",
   "metadata": {},
   "outputs": [
    {
     "data": {
      "text/plain": [
       "tensor(9)"
      ]
     },
     "execution_count": 72,
     "metadata": {},
     "output_type": "execute_result"
    }
   ],
   "source": [
    "#Find max\n",
    "max = torch.argmax(array_tensor)\n",
    "max"
   ]
  },
  {
   "cell_type": "markdown",
   "id": "464ad95f-160b-4c3e-b287-456200c1d259",
   "metadata": {},
   "source": [
    "## Reshape of Tensor"
   ]
  },
  {
   "cell_type": "code",
   "execution_count": 74,
   "id": "9b353abb-0bbb-475f-a4cf-561c90b17dde",
   "metadata": {},
   "outputs": [
    {
     "data": {
      "text/plain": [
       "(tensor([ 1.,  2.,  3.,  4.,  5.,  6.,  7.,  8.,  9., 10., 11., 12.]),\n",
       " torch.Size([12]))"
      ]
     },
     "execution_count": 74,
     "metadata": {},
     "output_type": "execute_result"
    }
   ],
   "source": [
    "arr = torch.arange(1.,13.)\n",
    "arr, arr.shape"
   ]
  },
  {
   "cell_type": "code",
   "execution_count": 75,
   "id": "a2d21ab1-47d1-48f6-bcd6-7b4c4bfb4fb5",
   "metadata": {},
   "outputs": [
    {
     "data": {
      "text/plain": [
       "tensor([[ 1.,  2.,  3.],\n",
       "        [ 4.,  5.,  6.],\n",
       "        [ 7.,  8.,  9.],\n",
       "        [10., 11., 12.]])"
      ]
     },
     "execution_count": 75,
     "metadata": {},
     "output_type": "execute_result"
    }
   ],
   "source": [
    "arr.reshape(4,3)"
   ]
  },
  {
   "cell_type": "code",
   "execution_count": 88,
   "id": "d256c531-5cf7-4341-b907-d812ba12b17b",
   "metadata": {},
   "outputs": [
    {
     "name": "stdout",
     "output_type": "stream",
     "text": [
      "Original Array : [1 3 5 7 9]\n",
      "Modified array : [1, 9, 25, 49, 81]\n"
     ]
    }
   ],
   "source": [
    "## Numpy MAp Function\n",
    "import numpy as np\n",
    "numpy_arr = np.arange(1,10,2)\n",
    "print(f\"Original Array : {numpy_arr}\")\n",
    "\n",
    "val_arr = list(map(lambda x:x**2, numpy_arr))\n",
    "print(f\"Modified array : {val_arr}\")"
   ]
  },
  {
   "cell_type": "code",
   "execution_count": 92,
   "id": "d9e7d596-5122-49e3-87b8-4e1c5f28b677",
   "metadata": {},
   "outputs": [
    {
     "name": "stdout",
     "output_type": "stream",
     "text": [
      "Originial array :tensor([[ 1.,  2.,  3.,  4.,  5.,  6.,  7.,  8.,  9., 10., 11., 12.]])\n",
      "Originial shpae :torch.Size([1, 12])\n",
      "\n",
      "Squeezed arr : tensor([ 1.,  2.,  3.,  4.,  5.,  6.,  7.,  8.,  9., 10., 11., 12.])\n",
      "\n",
      "Squeezed arr shape : torch.Size([12])\n"
     ]
    }
   ],
   "source": [
    "#torch.squeeze -> Removes the single dimension\n",
    "#torch.unsqueeze -> Adds a single dimension to the target tensor\n",
    "arr = arr.reshape(1,12)\n",
    "print(f\"Originial array :{arr}\")\n",
    "print(f\"Originial shpae :{arr.shape}\")\n",
    "\n",
    "print(f\"\\nSqueezed arr : {arr.squeeze()}\")\n",
    "print(f\"\\nSqueezed arr shape : {arr.squeeze().shape}\")"
   ]
  },
  {
   "cell_type": "code",
   "execution_count": 94,
   "id": "10498a03-3b8e-4722-9438-546de280fa87",
   "metadata": {},
   "outputs": [
    {
     "data": {
      "text/plain": [
       "torch.Size([1, 1, 12])"
      ]
     },
     "execution_count": 94,
     "metadata": {},
     "output_type": "execute_result"
    }
   ],
   "source": [
    "arr.unsqueeze(dim=0).shape"
   ]
  },
  {
   "cell_type": "code",
   "execution_count": 95,
   "id": "58b6bea9-b11a-4c3c-ae8e-42b9375bc2f5",
   "metadata": {},
   "outputs": [
    {
     "data": {
      "text/plain": [
       "tensor([[ 1.,  2.,  3.,  4.,  5.,  6.,  7.,  8.,  9., 10., 11., 12.]])"
      ]
     },
     "execution_count": 95,
     "metadata": {},
     "output_type": "execute_result"
    }
   ],
   "source": [
    "arr"
   ]
  },
  {
   "cell_type": "code",
   "execution_count": 96,
   "id": "3acfa63d-f223-433b-b034-2aad5fa45957",
   "metadata": {},
   "outputs": [
    {
     "data": {
      "text/plain": [
       "array([1., 2., 3., 4., 5., 6., 7.])"
      ]
     },
     "execution_count": 96,
     "metadata": {},
     "output_type": "execute_result"
    }
   ],
   "source": [
    "##Numpy array to Tensor\n",
    "import torch\n",
    "import numpy as np\n",
    "\n",
    "numpy_arr = np.arange(1.0,8.0)\n",
    "numpy_arr"
   ]
  },
  {
   "cell_type": "code",
   "execution_count": 97,
   "id": "60cfe1d6-9e0d-4fad-8b8e-7abd3a944e9f",
   "metadata": {},
   "outputs": [
    {
     "data": {
      "text/plain": [
       "tensor([1., 2., 3., 4., 5., 6., 7.], dtype=torch.float64)"
      ]
     },
     "execution_count": 97,
     "metadata": {},
     "output_type": "execute_result"
    }
   ],
   "source": [
    "arr_tensor = torch.from_numpy(numpy_arr)\n",
    "arr_tensor"
   ]
  },
  {
   "cell_type": "code",
   "execution_count": 98,
   "id": "4a63fb85-182a-4c43-8c23-cb8ec97fe2ae",
   "metadata": {},
   "outputs": [
    {
     "data": {
      "text/plain": [
       "torch.float64"
      ]
     },
     "execution_count": 98,
     "metadata": {},
     "output_type": "execute_result"
    }
   ],
   "source": [
    "arr_tensor.dtype"
   ]
  },
  {
   "cell_type": "markdown",
   "id": "ce95ae65-9862-409e-9726-85a3bfe54dde",
   "metadata": {},
   "source": [
    "## Running tensors and PyTorch object in GPUs"
   ]
  },
  {
   "cell_type": "code",
   "execution_count": 99,
   "id": "b3bceb28-e463-4c3f-812b-7295dc642641",
   "metadata": {},
   "outputs": [
    {
     "name": "stderr",
     "output_type": "stream",
     "text": [
      "'nvidia-smi' is not recognized as an internal or external command,\n",
      "operable program or batch file.\n"
     ]
    }
   ],
   "source": [
    "### 1. Getting a GPU\n",
    "!nvidia-smi"
   ]
  },
  {
   "cell_type": "code",
   "execution_count": 100,
   "id": "d73bd5ef-368a-47fd-9c11-65bb006528af",
   "metadata": {},
   "outputs": [
    {
     "data": {
      "text/plain": [
       "'cpu'"
      ]
     },
     "execution_count": 100,
     "metadata": {},
     "output_type": "execute_result"
    }
   ],
   "source": [
    "device = \"cuda\" if torch.cuda.is_available() else \"cpu\"\n",
    "device"
   ]
  },
  {
   "cell_type": "code",
   "execution_count": null,
   "id": "6f8df68f-04b5-4fa7-a454-0e6edc188a80",
   "metadata": {},
   "outputs": [],
   "source": []
  }
 ],
 "metadata": {
  "kernelspec": {
   "display_name": "genai",
   "language": "python",
   "name": "genai"
  },
  "language_info": {
   "codemirror_mode": {
    "name": "ipython",
    "version": 3
   },
   "file_extension": ".py",
   "mimetype": "text/x-python",
   "name": "python",
   "nbconvert_exporter": "python",
   "pygments_lexer": "ipython3",
   "version": "3.12.8"
  }
 },
 "nbformat": 4,
 "nbformat_minor": 5
}
