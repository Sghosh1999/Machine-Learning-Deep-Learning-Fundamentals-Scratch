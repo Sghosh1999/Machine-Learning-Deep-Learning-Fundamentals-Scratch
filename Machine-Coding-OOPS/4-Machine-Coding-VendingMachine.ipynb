{
 "cells": [
  {
   "cell_type": "markdown",
   "id": "14cff5d1",
   "metadata": {},
   "source": [
    "## Vending machine Design\n",
    "\n",
    "## Requirements\n",
    "- Display available items with name and price\n",
    "- Allow the user to insert coins\n",
    "- Check if sufficent balance is available\n",
    "- Dispense the item and return any change if available\n",
    "- Reset teh Machine to the next customer\n",
    "\n",
    "## Items Details\n",
    "Item - represents an item (name, price)\n",
    "Vending Machine - manages items, balance, transactions\n",
    "\n",
    "## Handles Item\n",
    "- Invalid item is selected\n",
    "- Insufficent balance\n"
   ]
  },
  {
   "cell_type": "code",
   "execution_count": 8,
   "id": "d68e335d",
   "metadata": {},
   "outputs": [],
   "source": [
    "class Item:\n",
    "    def __init__(self, name, price, quantity):\n",
    "        self.name = name\n",
    "        self.price = price\n",
    "        self.quantity = quantity\n",
    "    \n",
    "class VendingMachine:\n",
    "    def __init__(self):\n",
    "        self.items = []\n",
    "\n",
    "    def add_item(self, item):\n",
    "        item = Item(item['name'], item['price'], item['quantity'])\n",
    "        self.items.append(item)\n",
    "        print(f\"Added {item.name} to the vending machine.\")\n",
    "    \n",
    "    def remove_item(self, item_name):\n",
    "        for item in self.items:\n",
    "            if item_name == item.name:\n",
    "                self.items.remove(item)\n",
    "                print(f\"Removed {item.name} from the vending machine.\")\n",
    "                return\n",
    "        print(f\"Item {item_name} not found in the vending machine.\")\n",
    "    \n",
    "    ## Display available Items\n",
    "    def display_items(self):\n",
    "        if not self.items:\n",
    "            print(\"No items available in the vending machine.\")\n",
    "            return\n",
    "        print(\"Available items:\")\n",
    "        for item in self.items:\n",
    "            print(f\"{item.name}: ${item.price} (Quantity: {item.quantity})\")\n",
    "    \n",
    "    ## Purchase an item\n",
    "    def purchase_item(self, item_name, user_cash, user_quantity):\n",
    "        #Check if quantity is available\n",
    "        for item in self.items:\n",
    "            if item_name == item.name:\n",
    "                if user_quantity > item.quantity:\n",
    "                    print(f\"Not enough {item.name} available. Only {item.quantity} left.\")\n",
    "                    return\n",
    "                else:\n",
    "                    total_cost = item.price * user_quantity\n",
    "                    if user_cash < total_cost:\n",
    "                        print(f\"Not enough cash. You need ${total_cost} but have ${user_cash}.\")\n",
    "                        return\n",
    "                    else:\n",
    "                        item.quantity -= user_quantity\n",
    "                        print(f\"Purchased {user_quantity} of {item.name}.\")\n",
    "                        print(f\"Remaining cash: ${user_cash - total_cost}\")\n",
    "                        return\n",
    "                    \n",
    "            print(f\"Item {item_name} not found in the vending machine.\")\n",
    "    \n",
    "    #Restock an item\n",
    "    def restock_item(self, item_name, quantity):\n",
    "        for item in self.items:\n",
    "            if item_name == item.name:\n",
    "                item.quantity += quantity\n",
    "                print(f\"Restocked {item_name}. New quantity: {item.quantity}\")\n",
    "                return\n",
    "        print(f\"Item {item_name} not found in the vending machine.\")"
   ]
  },
  {
   "cell_type": "code",
   "execution_count": 9,
   "id": "84757b03",
   "metadata": {},
   "outputs": [
    {
     "name": "stdout",
     "output_type": "stream",
     "text": [
      "Added Soda to the vending machine.\n",
      "Added Chips to the vending machine.\n",
      "Available items:\n",
      "Soda: $1.5 (Quantity: 10)\n",
      "Chips: $1.0 (Quantity: 5)\n"
     ]
    }
   ],
   "source": [
    "vending_machine = VendingMachine()\n",
    "    \n",
    "# Adding items\n",
    "vending_machine.add_item({'name': 'Soda', 'price': 1.50, 'quantity': 10})\n",
    "vending_machine.add_item({'name': 'Chips', 'price': 1.00, 'quantity': 5})\n",
    "\n",
    "# Display items\n",
    "vending_machine.display_items()"
   ]
  },
  {
   "cell_type": "code",
   "execution_count": 10,
   "id": "d61c1480",
   "metadata": {},
   "outputs": [
    {
     "name": "stdout",
     "output_type": "stream",
     "text": [
      "Purchased 2 of Soda.\n",
      "Remaining cash: $2.0\n",
      "Item Chips not found in the vending machine.\n",
      "Not enough cash. You need $1.0 but have $0.5.\n",
      "Item Chips not found in the vending machine.\n",
      "Not enough Chips available. Only 5 left.\n",
      "Item Candy not found in the vending machine.\n",
      "Item Candy not found in the vending machine.\n"
     ]
    }
   ],
   "source": [
    "## Purchase an Item\n",
    "vending_machine.purchase_item('Soda', 5.00, 2)  # Successful purchase\n",
    "vending_machine.purchase_item('Chips', 0.50, 1)  # Not enough cash\n",
    "vending_machine.purchase_item('Chips', 1.00, 10)  # Not enough quantity\n",
    "vending_machine.purchase_item('Candy', 5.00, 1)  # Item not found"
   ]
  },
  {
   "cell_type": "code",
   "execution_count": 11,
   "id": "97b2d1d3",
   "metadata": {},
   "outputs": [
    {
     "name": "stdout",
     "output_type": "stream",
     "text": [
      "Available items:\n",
      "Soda: $1.5 (Quantity: 8)\n",
      "Chips: $1.0 (Quantity: 5)\n"
     ]
    }
   ],
   "source": [
    "vending_machine.display_items()  # Display remaining items"
   ]
  },
  {
   "cell_type": "code",
   "execution_count": 17,
   "id": "51134774",
   "metadata": {},
   "outputs": [
    {
     "name": "stdout",
     "output_type": "stream",
     "text": [
      "Added Candy to the vending machine.\n"
     ]
    }
   ],
   "source": [
    "## Adding a Item\n",
    "vending_machine.add_item({'name': 'Candy', 'price': 2, 'quantity': 20})"
   ]
  },
  {
   "cell_type": "code",
   "execution_count": 18,
   "id": "bca874bc",
   "metadata": {},
   "outputs": [
    {
     "name": "stdout",
     "output_type": "stream",
     "text": [
      "Restocked Soda. New quantity: 23\n",
      "Available items:\n",
      "Soda: $1.5 (Quantity: 23)\n",
      "Chips: $1.0 (Quantity: 5)\n",
      "Candy: $2 (Quantity: 20)\n"
     ]
    }
   ],
   "source": [
    "vending_machine.restock_item('Soda', 5)  # Restock Soda\n",
    "\n",
    "vending_machine.display_items()  # Display items after restocking"
   ]
  },
  {
   "cell_type": "code",
   "execution_count": null,
   "id": "1cee68ee",
   "metadata": {},
   "outputs": [],
   "source": []
  }
 ],
 "metadata": {
  "kernelspec": {
   "display_name": "genai",
   "language": "python",
   "name": "python3"
  },
  "language_info": {
   "codemirror_mode": {
    "name": "ipython",
    "version": 3
   },
   "file_extension": ".py",
   "mimetype": "text/x-python",
   "name": "python",
   "nbconvert_exporter": "python",
   "pygments_lexer": "ipython3",
   "version": "3.12.8"
  }
 },
 "nbformat": 4,
 "nbformat_minor": 5
}
