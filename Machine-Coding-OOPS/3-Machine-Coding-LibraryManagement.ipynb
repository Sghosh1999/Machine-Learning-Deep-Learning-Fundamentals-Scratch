{
 "cells": [
  {
   "cell_type": "markdown",
   "id": "6ce2122b",
   "metadata": {
    "vscode": {
     "languageId": "markdown"
    }
   },
   "source": [
    "# Machine Coding OOPS Question (Beginner Level, 1 Hour)\n",
    "\n",
    "\"\"\"\n",
    "**Question: Design a Library Management System**\n",
    "\n",
    "You are required to design and implement a basic Library Management System using Object-Oriented Programming principles. The system should allow users to:\n",
    "\n",
    "1. Add new books to the library.\n",
    "2. Register new members.\n",
    "3. Allow members to borrow and return books.\n",
    "4. Track which books are currently borrowed and by whom.\n",
    "\n",
    "**Requirements:**\n",
    "- Each book should have a unique ID, title, author, and availability status.\n",
    "- Each member should have a unique member ID and name.\n",
    "- A member can borrow multiple books, but a book can only be borrowed by one member at a time.\n",
    "- Implement appropriate classes and methods to support the above functionalities.\n",
    "- Write code to demonstrate the following scenarios:\n",
    "    - Adding books and members.\n",
    "    - Borrowing and returning books.\n",
    "    - Displaying the list of borrowed books for a member.\n",
    "\n",
    "**Instructions:**\n",
    "- Focus on writing clean, modular, and readable code.\n",
    "- Use appropriate OOPS concepts such as classes, objects, and encapsulation.\n",
    "- You do not need to implement a database or a user interface; use in-memory data structures.\n",
    "- Write a short main function or script to demonstrate the working of your system.\n",
    "\"\"\""
   ]
  },
  {
   "cell_type": "code",
   "execution_count": 1,
   "id": "8813d75d",
   "metadata": {},
   "outputs": [],
   "source": [
    "class Book:\n",
    "    def __init__(self, book_id, title, author):\n",
    "        self.book_id = book_id\n",
    "        self.title = title\n",
    "        self.author = author\n",
    "        self.is_available = True\n",
    "\n",
    "    def __str__(self):\n",
    "        return f\"Book {self.title} by {self.author} | Available: {self.is_available}\"\n",
    "\n",
    "\n",
    "class Member:\n",
    "    def __init__(self, member_id, member_name):\n",
    "        self.member_id = member_id\n",
    "        self.member_name = member_name\n",
    "        self.borrowed_books = []\n",
    "\n",
    "    def borrow_book(self, book):\n",
    "        if book.is_available:\n",
    "            book.is_available = False\n",
    "            self.borrowed_books.append(book)\n",
    "            print(f\"Book {book.title} is borrowed by {self.member_name}\")\n",
    "        else:\n",
    "            print(f\"Book {book.title} is not available\")\n",
    "    \n",
    "    def return_book(self, book):\n",
    "        if book in self.borrowed_books:\n",
    "            book.is_available = True\n",
    "            self.borrowed_books.remove(book)\n",
    "            print(f\"Book {book.title} is returned by {self.member_name}\")\n",
    "        else:\n",
    "            print(f\"Book {book.title} was not borrowed by {self.member_name}\")\n",
    "\n",
    "    def __str__(self):\n",
    "        borrowed = [book.title for book in self.borrowed_books]\n",
    "        return f\"Member {self.member_name} (ID: {self.member_id}) | Borrowed: {borrowed}\"\n",
    "\n",
    "class LibraryManagementSystem:\n",
    "    def __init__(self):\n",
    "        self.books = [] # book_id: Book\n",
    "        self.members = {}\n",
    "\n",
    "    def add_book(self, book: Book):\n",
    "        self.books.append(book)\n",
    "\n",
    "    def add_member(self, member: Member):\n",
    "        self.members[member.member_name] = member\n",
    "\n",
    "\n",
    "    def display_books(self):\n",
    "        if not self.books:\n",
    "            print(\"No books are present\")\n",
    "        for book in self.books:\n",
    "            print(f\"Book : {book.title} | Available Status: {book.is_available}\")\n",
    "\n",
    "    def display_members(self):\n",
    "        if not self.members:\n",
    "            print(\"No members are present\")\n",
    "        for member in self.members.values():\n",
    "            borrowed_titles = [book.title for book in member.borrowed_books]\n",
    "            print(f\"Member : {member.member_name} | Borrowed Books: {borrowed_titles}\")\n"
   ]
  },
  {
   "cell_type": "code",
   "execution_count": 2,
   "id": "dc7bb9e1",
   "metadata": {},
   "outputs": [
    {
     "name": "stdout",
     "output_type": "stream",
     "text": [
      "Book : The Great Gatsby | Available Status: True\n",
      "Book : To Kill a Mockingbird | Available Status: True\n",
      "Book : 1984 | Available Status: True\n",
      "Book : The Catcher in the Rye | Available Status: True\n"
     ]
    }
   ],
   "source": [
    "# Example usage\n",
    "\n",
    "libary = LibraryManagementSystem()\n",
    "book1 = Book(1, \"The Great Gatsby\", \"F. Scott Fitzgerald\")\n",
    "book2 = Book(2, \"To Kill a Mockingbird\", \"Harper Lee\")\n",
    "book3 = Book(3, \"1984\", \"George Orwell\")\n",
    "book4 = Book(4, \"The Catcher in the Rye\", \"J.D. Salinger\")\n",
    "\n",
    "libary.add_book(book1)\n",
    "libary.add_book(book2)\n",
    "libary.add_book(book3)\n",
    "libary.add_book(book4)\n",
    "\n",
    "member1 = Member(1, \"Alice\")\n",
    "member2 = Member(2, \"Bob\")\n",
    "libary.add_member(member1)\n",
    "libary.add_member(member2)\n",
    "\n",
    "# Display all books\n",
    "libary.display_books()"
   ]
  },
  {
   "cell_type": "code",
   "execution_count": 3,
   "id": "60448ca0",
   "metadata": {},
   "outputs": [
    {
     "name": "stdout",
     "output_type": "stream",
     "text": [
      "Member : Alice | Borrowed Books: []\n",
      "Member : Bob | Borrowed Books: []\n"
     ]
    }
   ],
   "source": [
    "libary.display_members()"
   ]
  },
  {
   "cell_type": "code",
   "execution_count": 4,
   "id": "f6d358dc",
   "metadata": {},
   "outputs": [
    {
     "name": "stdout",
     "output_type": "stream",
     "text": [
      "Book The Great Gatsby is borrowed by Alice\n",
      "Book To Kill a Mockingbird is borrowed by Alice\n",
      "Book 1984 is borrowed by Bob\n",
      "Book : The Great Gatsby | Available Status: False\n",
      "Book : To Kill a Mockingbird | Available Status: False\n",
      "Book : 1984 | Available Status: False\n",
      "Book : The Catcher in the Rye | Available Status: True\n"
     ]
    }
   ],
   "source": [
    "## Borrowing books\n",
    "member1.borrow_book(book1)\n",
    "member1.borrow_book(book2)\n",
    "\n",
    "member2.borrow_book(book3)\n",
    "\n",
    "# Display all books after borrowing\n",
    "libary.display_books()"
   ]
  },
  {
   "cell_type": "code",
   "execution_count": 5,
   "id": "e94576a6",
   "metadata": {},
   "outputs": [
    {
     "name": "stdout",
     "output_type": "stream",
     "text": [
      "Member : Alice | Borrowed Books: ['The Great Gatsby', 'To Kill a Mockingbird']\n",
      "Member : Bob | Borrowed Books: ['1984']\n"
     ]
    }
   ],
   "source": [
    "#Display all members after borrowing\n",
    "libary.display_members()"
   ]
  },
  {
   "cell_type": "code",
   "execution_count": 6,
   "id": "6a1bb636",
   "metadata": {},
   "outputs": [
    {
     "name": "stdout",
     "output_type": "stream",
     "text": [
      "Book The Great Gatsby is returned by Alice\n",
      "Book : The Great Gatsby | Available Status: True\n",
      "Book : To Kill a Mockingbird | Available Status: False\n",
      "Book : 1984 | Available Status: False\n",
      "Book : The Catcher in the Rye | Available Status: True\n"
     ]
    }
   ],
   "source": [
    "# Returning books\n",
    "member1.return_book(book1)\n",
    "\n",
    "# Display all books after returning\n",
    "libary.display_books()"
   ]
  },
  {
   "cell_type": "code",
   "execution_count": 7,
   "id": "6aa71ec7",
   "metadata": {},
   "outputs": [
    {
     "name": "stdout",
     "output_type": "stream",
     "text": [
      "Member : Alice | Borrowed Books: ['To Kill a Mockingbird']\n",
      "Member : Bob | Borrowed Books: ['1984']\n"
     ]
    }
   ],
   "source": [
    "libary.display_members()"
   ]
  },
  {
   "cell_type": "code",
   "execution_count": null,
   "id": "728c03bf",
   "metadata": {},
   "outputs": [],
   "source": []
  }
 ],
 "metadata": {
  "kernelspec": {
   "display_name": "genai",
   "language": "python",
   "name": "python3"
  },
  "language_info": {
   "codemirror_mode": {
    "name": "ipython",
    "version": 3
   },
   "file_extension": ".py",
   "mimetype": "text/x-python",
   "name": "python",
   "nbconvert_exporter": "python",
   "pygments_lexer": "ipython3",
   "version": "3.12.8"
  }
 },
 "nbformat": 4,
 "nbformat_minor": 5
}
